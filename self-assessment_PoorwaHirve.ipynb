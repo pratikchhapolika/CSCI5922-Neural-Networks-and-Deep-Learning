{
 "cells": [
  {
   "cell_type": "markdown",
   "metadata": {},
   "source": [
    "# Task\n",
    "\n",
    "[Matrix multiplication](https://en.wikipedia.org/wiki/Matrix_multiplication) is a fundamental linear algebraic operation, working knowledge of which is a prerequisite to understanding modern neural networks. In this assignment, you will implement matrix multiplication in pure Python (`python_matmul`) and in Python using NumPy (`numpy_matmul`). Skeletal versions of the two functions are provided in the included Python source file.\n",
    "\n",
    "This assignment is an opportunity for you to assess your preparedness for the course. It does not count towards your final grade."
   ]
  },
  {
   "cell_type": "code",
   "execution_count": 1,
   "metadata": {},
   "outputs": [],
   "source": [
    "import numpy as np"
   ]
  },
  {
   "cell_type": "code",
   "execution_count": 13,
   "metadata": {},
   "outputs": [],
   "source": [
    "def python_matmul(X, Y):\n",
    "    \"\"\"\n",
    "    Multiply 2-dimensional numpy arrays using pure Python.\n",
    "\n",
    "    Parameters\n",
    "    ----------\n",
    "    X : list\n",
    "        A list of M elements, each of which is an N-element list.\n",
    "    Y : list\n",
    "        A list of N elements, each of which is a K-element list.\n",
    "\n",
    "    Returns\n",
    "    ----------\n",
    "    A list of M elements, each of which is a K-element list.\n",
    "    \"\"\"\n",
    "    if not isinstance(X, list):\n",
    "        raise ValueError('X must be list')\n",
    "    if not isinstance(Y, list):\n",
    "        raise ValueError('Y must be list')\n",
    "    if not isinstance(X[0], list):\n",
    "        raise ValueError('X must be 2-dimensional')\n",
    "    if not isinstance(Y[0], list):\n",
    "        raise ValueError('Y must be 2-dimensional')\n",
    "    if not len(X[0]) == len(Y):\n",
    "        raise ValueError('Column length of X must equal row length of Y')\n",
    "        \n",
    "    M = len(X)\n",
    "    N = len(Y)\n",
    "    K = len(Y[0])\n",
    "    Z = [[0 for i in range(K)] for j in range(M)]\n",
    "    for i in range(M):\n",
    "        for k in range(N):\n",
    "            for j in range(K):\n",
    "                Z[i][j] += X[i][k] * Y[k][j]\n",
    "    return Z\n",
    "    raise NotImplementedError()"
   ]
  },
  {
   "cell_type": "code",
   "execution_count": 14,
   "metadata": {},
   "outputs": [],
   "source": [
    "def numpy_matmul(X, Y):\n",
    "    \"\"\"\n",
    "    Multiply 2-dimensional numpy arrays using PEP-0465 infix operator.\n",
    "\n",
    "    Parameters\n",
    "    ----------\n",
    "    X : np.ndarray\n",
    "        An MxN array.\n",
    "    Y : np.ndarray\n",
    "        An NxK array.\n",
    "\n",
    "    Returns\n",
    "    ----------\n",
    "    An MxK array.\n",
    "    \"\"\"\n",
    "    \n",
    "    if not isinstance(X, np.ndarray):\n",
    "        raise ValueError('X must be ndarray')\n",
    "    if not isinstance(Y, np.ndarray):\n",
    "        raise ValueError('Y must be ndarray')\n",
    "    if not X.ndim == 2:\n",
    "        raise ValueError('X must be 2-dimensional')\n",
    "    if not Y.ndim == 2:\n",
    "        raise ValueError('Y must be 2-dimensional')\n",
    "    if X.shape[1] != Y.shape[0]:\n",
    "        raise ValueError(\n",
    "            'Columns of X ({:d}) must equal rows of Y ({:d}'.format(\n",
    "                X.shape[1], Y.shape[0]))\n",
    "\n",
    "    return np.matmul(X, Y), X@Y\n",
    "    raise NotImplementedError()"
   ]
  },
  {
   "cell_type": "code",
   "execution_count": 17,
   "metadata": {},
   "outputs": [
    {
     "name": "stdout",
     "output_type": "stream",
     "text": [
      "PYTHON MATMUL\n",
      "[[7, 10], [15, 22]]\n",
      "\n",
      "NUMPY MATMUL\n",
      "[[ 7. 10.]\n",
      " [15. 22.]]\n",
      "[[ 7. 10.]\n",
      " [15. 22.]]\n"
     ]
    }
   ],
   "source": [
    "X = np.zeros((2,2))\n",
    "X[0][0] = 1\n",
    "X[0][1] = 2\n",
    "X[1][0] = 3\n",
    "X[1][1] = 4\n",
    "\n",
    "Y = [[1,2],[3,4]]\n",
    "print (\"PYTHON MATMUL\")\n",
    "z = python_matmul(Y, Y)\n",
    "print (z)\n",
    "\n",
    "x, y = numpy_matmul(X, X)\n",
    "print (\"\\nNUMPY MATMUL\")\n",
    "print (x)\n",
    "print (y)"
   ]
  },
  {
   "cell_type": "code",
   "execution_count": null,
   "metadata": {},
   "outputs": [],
   "source": []
  }
 ],
 "metadata": {
  "kernelspec": {
   "display_name": "Python 3",
   "language": "python",
   "name": "python3"
  },
  "language_info": {
   "codemirror_mode": {
    "name": "ipython",
    "version": 3
   },
   "file_extension": ".py",
   "mimetype": "text/x-python",
   "name": "python",
   "nbconvert_exporter": "python",
   "pygments_lexer": "ipython3",
   "version": "3.6.4"
  }
 },
 "nbformat": 4,
 "nbformat_minor": 2
}
