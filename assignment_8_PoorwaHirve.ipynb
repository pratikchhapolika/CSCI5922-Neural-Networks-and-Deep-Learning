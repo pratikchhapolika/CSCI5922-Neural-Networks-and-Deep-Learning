{
 "cells": [
  {
   "cell_type": "markdown",
   "metadata": {},
   "source": [
    "# Homework 8 - Recurrent Neural Networks\n",
    "\n",
    "***\n",
    "**Name**: __Poorwa Hirve__ and __Payoj Jain__\n",
    "***\n",
    "\n",
    "**Due Date**: Friday, 19th April - 11:59PM"
   ]
  },
  {
   "cell_type": "markdown",
   "metadata": {},
   "source": [
    "The goal of this assignment is to implement a single celled [Elman RNN](https://en.wikipedia.org/wiki/Recurrent_neural_network#Elman_networks_and_Jordan_networks) for predicting next character given a sequence of characters. The dataset used here is a full text [_As you Like It_](shakespeare.mit.edu/asyoulikeit/full.html) by Mr. William Shakespeare\n",
    "\n",
    "![rnn : http://colah.github.io/posts/2015-08-Understanding-LSTMs/](res/rnn.png)\n",
    "[- Chris Olah](http://colah.github.io/posts/2015-08-Understanding-LSTMs/)\n",
    "\n",
    "\n",
    "Formally, the RNN can be defined as follows:  \n",
    "At every timestep $t$, the corresponding hidden state at timestep $h_t$ and output $y_t$ are  \n",
    "\n",
    "$$\n",
    "\\begin{align}\n",
    "h_t &= f_h(Ix_t + Hh_{t-1} + b_h)\\\\\n",
    "y_t &= f_y(Oh_t + b_y)\n",
    "\\end{align}\n",
    "$$\n",
    "\n",
    "Here, $I$, $H$, $O$ are the input, hidden and output layer weights respectively. $f_h \\text{ and } f_y$ are activation functions for the hidden and output layer respectively. $b_h \\text{ and } b_y$ are hidden and output layer biases respectively.\n",
    "\n",
    "**NOTE**\n",
    "1. Testcases are agnostic to the choice of the activation functions or the use of biases."
   ]
  },
  {
   "cell_type": "markdown",
   "metadata": {},
   "source": [
    "#### Dataset"
   ]
  },
  {
   "cell_type": "code",
   "execution_count": 1,
   "metadata": {},
   "outputs": [],
   "source": [
    "dataset = open('asyoulikeit.txt', 'r').read()\n",
    "data = list(dataset)\n",
    "characters = list(set(dataset))\n",
    "data_size, vocabulary = len(dataset), len(characters)"
   ]
  },
  {
   "cell_type": "code",
   "execution_count": 2,
   "metadata": {},
   "outputs": [],
   "source": [
    "from collections import OrderedDict\n",
    "charMapping = OrderedDict()\n",
    "\n",
    "for i in range(vocabulary):\n",
    "    charMapping[characters[i]] = i"
   ]
  },
  {
   "cell_type": "code",
   "execution_count": 3,
   "metadata": {},
   "outputs": [],
   "source": [
    "def one_hot(idx, length):\n",
    "    \"\"\"\n",
    "        Returns a one hot encoded vector with the element at\n",
    "        \"idx\" location turned on. You can use this function\n",
    "        to convert the above dataset while training/sampling from the RNN.\n",
    "    \"\"\"\n",
    "    a = np.zeros((length, 1),dtype=int)\n",
    "    a[idx] = 1\n",
    "    return a"
   ]
  },
  {
   "cell_type": "markdown",
   "metadata": {},
   "source": [
    "#### Code"
   ]
  },
  {
   "cell_type": "code",
   "execution_count": 4,
   "metadata": {},
   "outputs": [],
   "source": [
    "import numpy as np\n",
    "import copy\n",
    "\n",
    "class RNNCell(object):\n",
    "    def __init__(self, n_inp, n_hid, n_out):\n",
    "        \"\"\"\n",
    "            Initializes an RNN cell.\n",
    "            \n",
    "            params:\n",
    "                n_inp: # of neurons in the input layer(I)\n",
    "                n_hid: # of neurons in the hidden layer(H)\n",
    "                n_out: # of neurons in the output layer(O)\n",
    "        \"\"\"\n",
    "        self.n_inp = n_inp\n",
    "        self.n_hid = n_hid\n",
    "        self.n_out = n_out\n",
    "        \n",
    "        self.I = np.random.randn(n_hid, n_inp)\n",
    "        self.H = np.random.randn(n_hid, n_hid)\n",
    "        self.O = np.random.randn(n_out, n_hid)\n",
    "                \n",
    "    def forward(self, X):\n",
    "        \"\"\"\n",
    "            Feed-forward an input sequence X of dimension \n",
    "            NxM. Here N is the sequence length and M is the\n",
    "            one hot vector representation of each item in the sequence.\n",
    "            An example:\n",
    "\n",
    "            V = [\n",
    "                array([[0.], [1.], [0.], [0.]]), \n",
    "                array([[0.], [0.], [0.], [1.]]), \n",
    "                array([[0.], [0.], [1.], [0.]]), \n",
    "                array([[1.], [0.], [0.], [0.]])\n",
    "            ]\n",
    "\n",
    "            For a vocabulary of size 4 - a, b, c, d: \n",
    "            the above vector V decoded in english alphabets is: b, d, c, a. \n",
    "            sequence length in this case = 4.\n",
    "            \n",
    "            Please note: For simplicity, we are going to keep\n",
    "            the batch size 1.\n",
    "            \n",
    "            params:\n",
    "                X (np.ndarray): sequence length x vector length.\n",
    "                    Here sequence alsts for t -> t+sqeunece length\n",
    "                    timestamps.\n",
    "            returns:\n",
    "                y ([np.ndarray] or a list): softmax normalized predicted values for \n",
    "                    t+1 -> t+sequence length + 1 timestamps\n",
    "        \"\"\"\n",
    "\n",
    "\n",
    "        # For each one hot vector we will perform forward, i.e. N times\n",
    "        self.X = X\n",
    "        self.context = np.zeros((len(X)+1, self.n_hid, 1))\n",
    "        y = np.zeros((len(X), self.n_out, 1))\n",
    "        for i in range(len(X)):\n",
    "            self.context[i] = np.tanh(self.I@X[i] + self.H@self.context[i-1]) # 10X5, 5X1 10X1....  10X10, 10X1 10X1\n",
    "            y[i] = softmax(self.O@self.context[i])\n",
    "            \n",
    "        return y\n",
    "\n",
    "    def backward(self, y_hot, y_hat):\n",
    "        \"\"\"\n",
    "            Implement the Backpropogation through time (BPTT) routine here.\n",
    "            param: \n",
    "                y_hat (np.ndarray): softmax normalized probabilities\n",
    "                y (1D iterable): target sequence.\n",
    "            \n",
    "            returns:\n",
    "                dI (np.ndarray): gradients for the input layer wrt loss\n",
    "                dH (np.ndarray): gradients for the hidden layer wrt loss\n",
    "                dO (np.ndarray): gradients for the output layer wrt loss\n",
    "        \n",
    "        \"\"\"\n",
    "        \n",
    "        dO, dI, dH = np.zeros(self.O.shape), np.zeros(self.I.shape), np.zeros(self.H.shape)\n",
    "        \n",
    "        #Get error in output layer (derivative of softmax cross entropy is just y_hat - y)\n",
    "        y_hat = np.asarray(y_hat)\n",
    "        y_hot = np.asarray(y_hot)\n",
    "        \n",
    "        delta_out = y_hat - y_hot\n",
    "        \n",
    "        for i in np.arange(len(y_hot))[::-1]:\n",
    "            \n",
    "            #Get error in hidden layer: (weights * error in output layer * derivative of tanh)\n",
    "            dO += delta_out[i] @ self.context[i].T\n",
    "            \n",
    "            dW = self.O.T@delta_out[i]      # Derivative for fully connected\n",
    "            delta_hidden = dW * (1 - self.context[i]**2)\n",
    "            \n",
    "            for bptt in np.arange(max(0, i-3), i+1)[::-1]:\n",
    "                #Accumulate gradients\n",
    "                dW_h = self.H.T@delta_hidden  # Derivative for H\n",
    "                dH += delta_hidden @ self.context[bptt-1].T\n",
    "                dI += delta_hidden @ self.X[bptt].T\n",
    "                delta_hidden = dW_h*(1 - self.context[bptt-1]**2)\n",
    "    \n",
    "        return dI, dH, dO\n",
    "        \n",
    "    def update(self, lr, gradients):\n",
    "        \n",
    "        \"\"\"\n",
    "            Perform parameter updates using the gradients \n",
    "            obtained from self.backward().\n",
    "            \n",
    "            params: \n",
    "                lr (float32): learning rate / step size\n",
    "                gradients (list of np.ndarray): \n",
    "                    containing gradients for RNN cell parameters.\n",
    "            \n",
    "            returns none\n",
    "        \"\"\"\n",
    "        [dI, dH, dO] = gradients\n",
    "        self.I -= lr*dI\n",
    "        self.O -= lr*dO\n",
    "        self.H -= lr*dH\n",
    "\n",
    "def softmax(un_probs):\n",
    "    \"\"\"\n",
    "        returns softmax-normalized probabilities of the input vector\n",
    "        params:\n",
    "            un_probs (np.ndarray): un-normalized probbailites, obtained\n",
    "            by forwarding an input through the RNNCell implemented above.\n",
    "    \"\"\"\n",
    "    eX = np.exp((un_probs.T - np.max(un_probs, axis=0).T))\n",
    "    return (eX / eX.sum()).T\n",
    "\n",
    "def sce_loss(y, y_hats):\n",
    "    \"\"\"\n",
    "        returns softmax cross entropy loss (float). for a sequence of \n",
    "        predictions - y_hats in this case.\n",
    "        \n",
    "        params:\n",
    "        y, y_hats (np.ndarray): a batch of target values\n",
    "        in one hot encoded format, and predictions respectively \n",
    "    \"\"\"\n",
    "\n",
    "    return -np.sum(y*np.log(y_hats))"
   ]
  },
  {
   "cell_type": "code",
   "execution_count": 5,
   "metadata": {
    "scrolled": true
   },
   "outputs": [
    {
     "name": "stderr",
     "output_type": "stream",
     "text": [
      "/anaconda3/lib/python3.6/site-packages/ipykernel_launcher.py:43: RuntimeWarning: invalid value encountered in double_scalars\n",
      "....\n",
      "----------------------------------------------------------------------\n",
      "Ran 4 tests in 0.094s\n",
      "\n",
      "OK\n"
     ]
    },
    {
     "data": {
      "text/plain": [
       "<unittest.runner.TextTestResult run=4 errors=0 failures=0>"
      ]
     },
     "execution_count": 5,
     "metadata": {},
     "output_type": "execute_result"
    }
   ],
   "source": [
    "import unittest\n",
    "import operator\n",
    "class TestRNN(unittest.TestCase):\n",
    "\n",
    "    def setUp(self):\n",
    "        \n",
    "        self.x = [0, 1, 2, 3]\n",
    "        self.y = [1, 2, 3, 4]\n",
    "        self.x_hot = [one_hot(i, 5) for i in self.x]\n",
    "        self.y_hot = [one_hot(i, 5) for i in self.y]\n",
    "        np.random.seed(seed=42)\n",
    "        self.rnn = RNNCell(5, 10, 5)\n",
    "        \n",
    "    def test_backward(self):\n",
    "        h = 1e-5\n",
    "        preds = self.rnn.forward(self.x_hot)\n",
    "        grads = self.rnn.backward(self.y_hot, preds)\n",
    "        \n",
    "        params = ['I', 'H', 'O']\n",
    "        check = True\n",
    "        for pidx, pname in enumerate(params):\n",
    "\n",
    "            parameter = operator.attrgetter(pname)(self.rnn)\n",
    "            it = np.nditer(parameter, flags=['multi_index'], op_flags=['readwrite'])\n",
    "            while not it.finished:\n",
    "                \n",
    "                ix = it.multi_index\n",
    "                original_value = parameter[ix]\n",
    "                \n",
    "                parameter[ix] = original_value + h\n",
    "                preds_plus = self.rnn.forward(self.x_hot)\n",
    "                gradplus = sce_loss(self.y_hot, preds_plus)\n",
    "                \n",
    "                parameter[ix] = original_value - h\n",
    "                preds_minus = self.rnn.forward(self.x_hot)\n",
    "                gradminus = sce_loss(self.y_hot, preds_minus)\n",
    "                \n",
    "                estimated_gradient = (gradplus - gradminus)/(2*h)\n",
    "                \n",
    "                parameter[ix] = original_value\n",
    "                backprop_gradient = grads[pidx][ix]\n",
    "\n",
    "                relative_error = np.abs(backprop_gradient - estimated_gradient)/np.abs(backprop_gradient +  estimated_gradient)\n",
    "                if relative_error > 0.01:\n",
    "                    check = False\n",
    "                it.iternext()\n",
    "\n",
    "        self.assertTrue(check)\n",
    "    \n",
    "#     def test_forward_sigmoid(self):\n",
    "#         gt_hats =[\n",
    "#           np.array([[0.14503568], [0.28638165], [0.5491687 ], [0.00971166], [0.0097023 ]]), \n",
    "#           np.array([[0.02176785], [0.12975228], [0.8284677 ], [0.00514675], [0.01486543]]), \n",
    "#           np.array([[0.02462838], [0.65433099], [0.27342054], [0.01032967], [0.03729042]]), \n",
    "#           np.array([[0.0349851 ], [0.43885012], [0.50821946], [0.00367099], [0.01427433]])\n",
    "#         ]\n",
    "#         self.assertTrue(np.allclose(gt_hats, self.rnn.forward(self.x_hot)))\n",
    "        \n",
    "    def test_forward_tanh(self):\n",
    "        gt_hats = [\n",
    "            np.array([[0.01710539], [0.03225131], [0.00672322], [0.32644306], [0.61747702]]), \n",
    "            np.array([[0.80628474], [0.04705858], [0.11745624], [0.00463649], [0.02456394]]), \n",
    "            np.array([[0.07526086], [0.00822394], [0.81030667], [0.04588168], [0.06032685]]), \n",
    "            np.array([[8.47960160e-01], [7.84789648e-04], [6.83461337e-02], [7.45270746e-02], [8.38184174e-03]])\n",
    "        ]\n",
    "        self.assertTrue(np.allclose(gt_hats, self.rnn.forward(self.x_hot)))\n",
    "    \n",
    "    def test_sce_loss(self):\n",
    "        a_hat = np.asarray([[ 1.17845287],[ 0.0098006 ],[1.1868782 ],[ 0.59303278],[ 0.81083501]])\n",
    "        b_hat = np.asarray([[2.19971087],[ 1.07852587],[ 0.7491515 ],[ 0.20928088],[ 0.88705796]])\n",
    "        \n",
    "        a = np.asarray([[0], [0], [0], [1], [0]])\n",
    "        b = np.asarray([[0], [0], [1], [0], [0]])\n",
    "        \n",
    "        loss = np.asarray([0.811315])\n",
    "\n",
    "        self.assertTrue(np.allclose(loss, sce_loss([a, b], [a_hat, b_hat])))\n",
    "        \n",
    "    def test_softmax(self):\n",
    "        a = np.asarray([[-0.0962107 ],[-0.3201632 ],[ 0.89527034],[-0.43588242],[ 0.6486164 ]])\n",
    "        b = np.asarray([[0.13674919],[0.10931089],[0.36856959],[0.09736597],[0.28800436]])\n",
    "        self.assertTrue(np.allclose(b, softmax(a)))\n",
    "    \n",
    "suite = unittest.TestLoader().loadTestsFromTestCase(TestRNN)\n",
    "unittest.TextTestRunner().run(suite)"
   ]
  },
  {
   "cell_type": "code",
   "execution_count": 8,
   "metadata": {},
   "outputs": [],
   "source": [
    "def train(rnn_cell, train_data, lr=0.005, epochs=50):\n",
    "    \"\"\"\n",
    "        Implement the training routine here.\n",
    "        \n",
    "        returns:\n",
    "        Implementation choice\n",
    "    \"\"\"    \n",
    "    steps = 200\n",
    "    loss = []\n",
    "    X = train_data[:len(train_data)-1]\n",
    "    y = train_data[1:]\n",
    "\n",
    "    for epoch in range(epochs):\n",
    "        error_train = []\n",
    "        print(epoch)\n",
    "        for init in range(0, len(train_data)-1, steps):\n",
    "\n",
    "            X_batch, y_batch = X[init:init+steps], y[init:init+steps]\n",
    "            \n",
    "            y_pred = rnn_cell.forward(X_batch)\n",
    "            \n",
    "            epoch_loss = sce_loss(y_batch, y_pred)\n",
    "            \n",
    "            grad_I, grad_H, grad_O = rnn_cell.backward(y_batch, y_pred)\n",
    "            \n",
    "            rnn_cell.update(lr, [grad_I, grad_H, grad_O])\n",
    "            error_train.append(epoch_loss)\n",
    "\n",
    "        loss.append(np.mean(error_train)/steps)\n",
    "    return loss\n",
    "\n",
    "# idx = np.rand(200);\n",
    "def sample(init, model, time_steps):\n",
    "    \"\"\"\n",
    "        Sample a sequence of characters from the model\n",
    "        \n",
    "        params:\n",
    "        init (int): integer mapping of the first character\n",
    "            of the sequence\n",
    "        time_steps (int): length of the sequence to be sampled\n",
    "        model (RNNCell)\n",
    "        \n",
    "        returns:\n",
    "        string: sequence of characters.\n",
    "    \"\"\" \n",
    "    X_string = characters[init]\n",
    "\n",
    "    for time in range(time_steps):\n",
    "        l = len(X_string)\n",
    "        X = np.zeros((l,model.n_inp,1))\n",
    "        for i in range(l):\n",
    "            X[i] = one_hot(charMapping[X_string[i]],model.n_inp)\n",
    "        y_hat = model.forward(X)\n",
    "        y_hat = np.asarray(y_hat)[0]\n",
    "        init = np.random.choice(range(len(y_hat)), p=y_hat.ravel())\n",
    "        X_string += characters[init]\n",
    "    return X_string"
   ]
  },
  {
   "cell_type": "markdown",
   "metadata": {},
   "source": [
    "**PART 1**  \n",
    "\n",
    "Plot the losses after each epoch and report a short sequence ~200 of characters from the best model."
   ]
  },
  {
   "cell_type": "code",
   "execution_count": 9,
   "metadata": {
    "scrolled": true
   },
   "outputs": [
    {
     "name": "stdout",
     "output_type": "stream",
     "text": [
      "0\n",
      "1\n",
      "2\n",
      "3\n",
      "4\n",
      "5\n",
      "6\n",
      "7\n",
      "8\n",
      "9\n",
      "10\n",
      "11\n",
      "12\n",
      "13\n",
      "14\n",
      "15\n",
      "16\n",
      "17\n",
      "18\n",
      "19\n",
      "20\n",
      "21\n",
      "22\n",
      "23\n",
      "24\n",
      "25\n",
      "26\n",
      "27\n",
      "28\n",
      "29\n",
      "30\n",
      "31\n",
      "32\n",
      "33\n",
      "34\n",
      "35\n",
      "36\n",
      "37\n",
      "38\n",
      "39\n",
      "40\n",
      "41\n",
      "42\n",
      "43\n",
      "44\n",
      "45\n",
      "46\n",
      "47\n",
      "48\n",
      "49\n"
     ]
    }
   ],
   "source": [
    "char_to_indices = { ch:i for i,ch in enumerate(characters) }\n",
    "data_encode=[one_hot(char_to_indices[i], vocabulary) for i in dataset]\n",
    "rnn_cell = RNNCell(vocabulary,100,vocabulary)\n",
    "loss = train(rnn_cell, data_encode, 0.001, 50)"
   ]
  },
  {
   "cell_type": "code",
   "execution_count": 11,
   "metadata": {
    "scrolled": true
   },
   "outputs": [
    {
     "name": "stdout",
     "output_type": "stream",
     "text": [
      "xg'llOlgolt'pooolol oogloOgOlOa oOEloaOoagOlOoO;Olgoleeo;oloVlOlOO'O'OaoVaYAo'Vl'oOooo;aoOOOllO'atoOlglooalolblblOl' olglo OoaooAl l'aOll.Oaao tlobfOOaalal;ogObo gaolOl l O OO b''lolool lO'gOooaoEltgAo\n"
     ]
    }
   ],
   "source": [
    "characters = list(set(dataset))\n",
    "import numpy as np\n",
    "import random\n",
    "st = sample(random.randint(0, vocabulary), rnn_cell, 200)\n",
    "print (st)"
   ]
  },
  {
   "cell_type": "code",
   "execution_count": 14,
   "metadata": {},
   "outputs": [
    {
     "data": {
      "image/png": "[encoded data removed]",
      "text/plain": [
       "<Figure size 864x360 with 1 Axes>"
      ]
     },
     "metadata": {},
     "output_type": "display_data"
    }
   ],
   "source": [
    "import matplotlib.pyplot as plt\n",
    "plt.figure(figsize=(12,5))\n",
    "plt.plot(range(50), loss)\n",
    "plt.xlim(0,50)\n",
    "plt.title('RNN loss vs number of epochs')\n",
    "plt.xlabel('Number of epochs')\n",
    "plt.ylabel('MSE')\n",
    "plt.show()"
   ]
  },
  {
   "cell_type": "markdown",
   "metadata": {},
   "source": [
    "**PART 2 - Extra Credit**   \n",
    "\n",
    "While training the network you will find that the losses explode after a certain amount of time.\n",
    "Describe and implement your chosen strategy to stabilize the training in a few words along with a plot showing the effect."
   ]
  },
  {
   "cell_type": "markdown",
   "metadata": {},
   "source": [
    "> One mechanism to deal with the exploding gradient problem is to rescale their norm (clip gradient) whenever it goes over a threshold: \n",
    ">\n",
    ">$ g \\leftarrow \\frac{\\partial{E}}{\\partial{\\theta}}  $\n",
    ">\n",
    ">If $  ||g||  \\geq  threshold $: \n",
    ">\n",
    "> &nbsp;&nbsp;&nbsp;&nbsp;&nbsp;&nbsp;&nbsp;&nbsp; $g \\leftarrow  threshold \\cdot \\frac{g}{||g||}  $"
   ]
  },
  {
   "cell_type": "code",
   "execution_count": 15,
   "metadata": {},
   "outputs": [],
   "source": [
    "def clip(gradients, clipval):\n",
    "    new_gradients = []\n",
    "    for grad in gradients:\n",
    "        new_grad = np.clip(grad,-clipval , clipval, out=grad)\n",
    "        new_gradients.append(new_grad)\n",
    "    return new_gradients\n",
    "\n",
    "\n",
    "def train_clip(rnn_cell, train_data, lr=0.001, epochs=10, threshold=1):\n",
    "    \"\"\"\n",
    "        Implement the training routine here.\n",
    "        \n",
    "        returns:\n",
    "        Implementation choice\n",
    "    \"\"\"\n",
    "    steps = 200\n",
    "    loss = []\n",
    "    X = train_data[:len(train_data)-1]\n",
    "    y = train_data[1:]\n",
    "\n",
    "    for epoch in range(epochs):\n",
    "        error_train = []\n",
    "        print(epoch)\n",
    "        for init in range(0, len(train_data)-1, steps):\n",
    "\n",
    "            X_batch, y_batch = X[init:init+steps], y[init:init+steps]\n",
    "            \n",
    "            y_pred = rnn_cell.forward(X_batch)\n",
    "            \n",
    "            epoch_loss = sce_loss(y_batch, y_pred)\n",
    "            \n",
    "            grad_I, grad_H, grad_O = clip(rnn_cell.backward(y_batch, y_pred), threshold)\n",
    "            \n",
    "            rnn_cell.update(lr, [grad_I, grad_H, grad_O])\n",
    "            error_train.append(epoch_loss)\n",
    "\n",
    "        loss.append(np.mean(error_train)/steps)\n",
    "        \n",
    "    return loss"
   ]
  },
  {
   "cell_type": "code",
   "execution_count": 16,
   "metadata": {},
   "outputs": [
    {
     "name": "stdout",
     "output_type": "stream",
     "text": [
      "0\n",
      "1\n",
      "2\n",
      "3\n",
      "4\n",
      "5\n",
      "6\n",
      "7\n",
      "8\n",
      "9\n",
      "10\n",
      "11\n",
      "12\n",
      "13\n",
      "14\n",
      "15\n",
      "16\n",
      "17\n",
      "18\n",
      "19\n"
     ]
    }
   ],
   "source": [
    "rnn_cell2 = RNNCell(vocabulary,100,vocabulary)\n",
    "char_to_indices = { ch:i for i,ch in enumerate(characters) }\n",
    "data_encode=[one_hot(char_to_indices[i], vocabulary) for i in dataset]\n",
    "loss2 = train_clip(rnn_cell2, data_encode, 0.001, 20, 2)"
   ]
  },
  {
   "cell_type": "code",
   "execution_count": 17,
   "metadata": {},
   "outputs": [
    {
     "name": "stdout",
     "output_type": "stream",
     "text": [
      "UKWwKXhKTVCNKKxXTLK;DCzzlKL&KDK.WLDDTKQKLK[Vz;TuTKKEWLKKTKKTKDXLLzQDL:KXTILQ:LKI,XCTKIKDKL,LK;KTKMLCLDLL?LaCK.:XLq&U-i]KLK,E.KK&EKKLTDK.LCQEzTKWKTK[zzLjLTLBKEQKW]CSKLWLSxTW[dKXTs[TKzK;TKLzWQqXTTKKSKK.T\n"
     ]
    }
   ],
   "source": [
    "characters = list(set(dataset))\n",
    "import numpy as np\n",
    "import random\n",
    "st = sample(random.randint(0, vocabulary), rnn_cell2, 200)\n",
    "print (st)"
   ]
  },
  {
   "cell_type": "code",
   "execution_count": 18,
   "metadata": {},
   "outputs": [
    {
     "data": {
      "text/plain": [
       "Text(0,0.5,'MSE')"
      ]
     },
     "execution_count": 18,
     "metadata": {},
     "output_type": "execute_result"
    },
    {
     "data": {
      "image/png": "[encoded data removed]",
      "text/plain": [
       "<Figure size 864x360 with 1 Axes>"
      ]
     },
     "metadata": {},
     "output_type": "display_data"
    }
   ],
   "source": [
    "import matplotlib.pyplot as plt\n",
    "plt.figure(figsize=(12,5))\n",
    "plt.plot(range(20), loss2)\n",
    "plt.xlim(0,20)\n",
    "plt.title('RNN Clip loss vs number of epochs')\n",
    "plt.xlabel('Number of epochs')\n",
    "plt.ylabel('MSE')"
   ]
  },
  {
   "cell_type": "code",
   "execution_count": null,
   "metadata": {},
   "outputs": [],
   "source": []
  }
 ],
 "metadata": {
  "kernelspec": {
   "display_name": "Python 3",
   "language": "python",
   "name": "python3"
  },
  "language_info": {
   "codemirror_mode": {
    "name": "ipython",
    "version": 3
   },
   "file_extension": ".py",
   "mimetype": "text/x-python",
   "name": "python",
   "nbconvert_exporter": "python",
   "pygments_lexer": "ipython3",
   "version": "3.6.5"
  }
 },
 "nbformat": 4,
 "nbformat_minor": 2
}
