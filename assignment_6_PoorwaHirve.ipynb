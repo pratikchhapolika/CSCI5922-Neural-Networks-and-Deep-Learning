{
 "cells": [
  {
   "cell_type": "markdown",
   "metadata": {},
   "source": [
    "# Homework 6 - Regularization of Neural Networks using AD.\n",
    "\n",
    "***\n",
    "**Name**: __Poorwa Hirve__\n",
    "***\n",
    "\n",
    "## Goal\n",
    "\n",
    "In this assignment you will be implementing and inspecting the effect of the following regularization techniques on neural networks.  \n",
    "1. L1 Regularization\n",
    "2. L2 Regularization\n",
    "3. Random Dropout\n",
    "\n",
    "This assigment is due for submission on **Tuesday - 03/12/2019**.\n",
    "\n",
    "**NOTE:** Before continuing, I suggest you go through the sources: `optimizer.py` and `mlpnetwork.py` to get to know the convienence methods for loading and saving trained models. Average runtime of this notebook (\"Experiment\" specifically) is 2-2.5 hours. manage your time accordingly.   "
   ]
  },
  {
   "cell_type": "code",
   "execution_count": 1,
   "metadata": {},
   "outputs": [],
   "source": [
    "# import libs\n",
    "from tensor import Tensor\n",
    "from optimizer import Optimizer\n",
    "from mlpnetwork import MLPNetwork\n",
    "import numpy as np\n",
    "import copy # you'll need copy for initializing network layers to the same state.\n",
    "from sklearn.utils import shuffle\n",
    "from collections import OrderedDict\n",
    "from matplotlib import pyplot as plt\n",
    "import pandas as pd"
   ]
  },
  {
   "cell_type": "code",
   "execution_count": 2,
   "metadata": {},
   "outputs": [],
   "source": [
    "initial = 'InitialWeights'\n",
    "initial_weights_dir = './data/initial_weights/' + initial\n",
    "saved_model_dir = './data/saved_models/'"
   ]
  },
  {
   "cell_type": "markdown",
   "metadata": {},
   "source": [
    "### Implementation"
   ]
  },
  {
   "cell_type": "markdown",
   "metadata": {},
   "source": [
    "#### Randomly initlalized network weights"
   ]
  },
  {
   "cell_type": "code",
   "execution_count": 3,
   "metadata": {},
   "outputs": [],
   "source": [
    "class MLP(MLPNetwork):\n",
    "    def __init__(self, l1_weights, l2_weights):\n",
    "        super(MLP, self).__init__()\n",
    "        # Initialize a 1 hidden layer neural network here.\n",
    "        self.l1 = Tensor(copy.deepcopy(l1_weights))\n",
    "        self.l2 = Tensor(copy.deepcopy(l2_weights))\n",
    "        \n",
    "    def forward(self, X):\n",
    "        \"\"\"\n",
    "            Implement the forward pass here.\n",
    "            Available activations:\n",
    "            1. ReLU\n",
    "            2. Sigmoid\n",
    "            See tensor.py for implementation details.\n",
    "            \n",
    "            return:\n",
    "            (Tensor) final layer activations/predictions.\n",
    "        \"\"\"\n",
    "\n",
    "        a1 = X.dot(self.l1).relu()\n",
    "        a2 = a1.dot(self.l2).sigmoid()\n",
    "        \n",
    "        return a2\n",
    "\n",
    "    def update(self, opt):\n",
    "        opt.step(self)\n",
    "\n",
    "    def get_L1_norm(self):\n",
    "        \"\"\"\n",
    "            Implement the L1 norm of the layer weights.\n",
    "            \n",
    "            Returns:\n",
    "            (Tensor) L1 norm of the layer weights.\n",
    "            Make sure you use the AD framework so that the\n",
    "            norm computation is recorded in the computational\n",
    "            graph.\n",
    "            \n",
    "            \n",
    "            Check wiki for the definition of L1 norm.\n",
    "        \"\"\"\n",
    "        return (self.l1.abs()).sum() + (self.l2.abs()).sum()\n",
    "                \n",
    "    def get_L2_norm(self):\n",
    "        \"\"\"\n",
    "            Implement the L2 norm of the layer weights.\n",
    "            \n",
    "            Returns:\n",
    "            (Tensor) L2 norm of the layer weights.\n",
    "            Make sure you use the AD framework so that the\n",
    "            norm computation is recorded in the computational\n",
    "            graph.\n",
    "            \n",
    "            Check wiki for the definition of L2 norm.\n",
    "        \"\"\"\n",
    "        return (self.l1.pow(2)).sum() + (self.l2.pow(2)).sum()"
   ]
  },
  {
   "cell_type": "markdown",
   "metadata": {},
   "source": [
    "#### Random Dropout\n",
    "\n",
    "You are encouraged to check out the papers [here](https://arxiv.org/abs/1207.0580) and [here](http://jmlr.org/papers/v15/srivastava14a.html) for additional references for dropout."
   ]
  },
  {
   "cell_type": "code",
   "execution_count": 4,
   "metadata": {},
   "outputs": [],
   "source": [
    "class MLPDropout(MLPNetwork):\n",
    "    def __init__(self, l1_weights, l2_weights, drop_out):\n",
    "        super(MLPDropout, self).__init__()\n",
    "        # Initialize a 1 layer hidden neural network here.\n",
    "        # Drop out the hidden layer\n",
    "        self.training = True # Training flag will be needed for Dropout \n",
    "        self.dropout_p = drop_out # Hyperparameter!\n",
    "        self.l1 = Tensor(copy.deepcopy(l1_weights))\n",
    "        self.l2 = Tensor(copy.deepcopy(l2_weights))\n",
    "        \n",
    "    def forward(self, X):\n",
    "        \"\"\"\n",
    "            Implement the forward pass with and without\n",
    "            dropout here. Make sure that your DropOut layer is\n",
    "            recorded in the computational graph.\n",
    "            \n",
    "            Available activations:\n",
    "            1. ReLU\n",
    "            2. Sigmoid\n",
    "            See tensor.py for implementation details.\n",
    "            \n",
    "            return:\n",
    "            (Tensor) final layer activations/predictions.\n",
    "        \"\"\"\n",
    "        \n",
    "        a1 = X.dot(self.l1).relu()\n",
    "        \n",
    "        if self.training:\n",
    "            self.mask = Tensor(np.random.binomial(size=a1.value.shape, n=1, p=self.dropout_p) / self.dropout_p)\n",
    "            a1 = a1 * self.mask\n",
    "            self.act = a1\n",
    "            \n",
    "        a2 = a1.dot(self.l2).sigmoid()\n",
    "        \n",
    "        return a2\n",
    "\n",
    "    def update(self, opt):\n",
    "        opt.step(self)\n",
    "\n",
    "    def get_L1_norm(self):\n",
    "        \"\"\"\n",
    "            Same as MLP\n",
    "        \"\"\"\n",
    "        return (self.l1.abs()).sum() + (self.l2.abs()).sum()\n",
    "        \n",
    "    def get_L2_norm(self):\n",
    "        \"\"\"\n",
    "            Same as MLP\n",
    "        \"\"\"\n",
    "        return (self.l1.pow(2)).sum() + (self.l2.pow(2)).sum()"
   ]
  },
  {
   "cell_type": "markdown",
   "metadata": {},
   "source": [
    "#### Dataset"
   ]
  },
  {
   "cell_type": "code",
   "execution_count": 5,
   "metadata": {},
   "outputs": [],
   "source": [
    "X_train, y_train = np.load('./data/X_train.npy'), np.load('./data/y_train.npy')\n",
    "X_test, y_test = np.load('./data/X_test.npy'), np.load('./data/y_test.npy')"
   ]
  },
  {
   "cell_type": "markdown",
   "metadata": {},
   "source": [
    "#### Train and Test loop"
   ]
  },
  {
   "cell_type": "code",
   "execution_count": 6,
   "metadata": {},
   "outputs": [],
   "source": [
    "def step(y):\n",
    "    for i in range(y.value.shape[0]):\n",
    "        if y.value[i] >= 0.5:\n",
    "            y.value[i] = 1\n",
    "        else:\n",
    "            y.value[i] = 0\n",
    "    return y\n",
    "\n",
    "def train(model, X_train, y_train, epochs, batch_size, opt, reg_flag, reg_weight = None):\n",
    "    \"\"\"\n",
    "        Train loop.\n",
    "        \n",
    "        params:\n",
    "        model (MLP): \n",
    "            An MLP model to be trained. \n",
    "            MLP model must inherit the MLPNetwork module.\n",
    "        X_train (np.ndarray): \n",
    "            Training set. 600 features per sample.\n",
    "        y_train (np.ndarray):\n",
    "            Training lables. 0 or 1.\n",
    "        epochs (int): Epochs\n",
    "        batch_size (int): Batch size\n",
    "        opt (Optimizer): \n",
    "            Only sgd optimizer has been released for obvious reasons.\n",
    "        reg_flag (int):\n",
    "            An integer flag for your convienence. Use it to switch between\n",
    "            different L1, L2 and NO regularization penalties.\n",
    "        reg_weight ( array of floats ):\n",
    "            Weight(s) for regularization penalties. \n",
    "            You can get creative with this as well. \n",
    "            It is an array of floats. Take the hint.\n",
    "        \n",
    "        return:\n",
    "        Implementation choice.\n",
    "    \"\"\"\n",
    "    mse_list = []\n",
    "    batches = X_train.shape[0] / batch_size\n",
    "    n_hid = model.l1.value.shape[1]\n",
    "    \n",
    "    for epoch in range(epochs):\n",
    "        X_train, y_train = shuffle(X_train, y_train)\n",
    "        batch_error = []\n",
    "        for j in range(0, X_train.shape[0], batch_size):\n",
    "            X = Tensor(X_train[j:j+batch_size])\n",
    "            y_actual = Tensor(y_train[j:j+batch_size])\n",
    "\n",
    "            y_hat = model.forward(X)\n",
    "            \n",
    "            model.zero_grad(opt)\n",
    "            \n",
    "            error = ((y_hat - y_actual).pow(2)).mean()\n",
    "            \n",
    "            if reg_flag == 0:\n",
    "                reg = Tensor(0)\n",
    "            elif reg_flag == 1: \n",
    "                reg = Tensor(reg_weight[0]) * model.get_L1_norm()\n",
    "                \n",
    "            elif reg_flag == 2:\n",
    "                reg = Tensor(reg_weight[1]) * model.get_L2_norm()\n",
    "                \n",
    "            error = error + reg\n",
    "            batch_error.append(error.value)\n",
    "            \n",
    "            error.backward()\n",
    "            \n",
    "            if type(model) == MLPDropout:\n",
    "                model.act.grad = model.act.grad * model.mask.value\n",
    "            \n",
    "            model.update(opt)\n",
    "            \n",
    "#         model.update_state_dict()\n",
    "        \n",
    "        mse_list.append(sum(batch_error) / batches)\n",
    "    \n",
    "    model.save_state(saved_model_dir + model.__class__.__name__+'_'+str(n_hid)+'_'+str(reg_flag)+'.pickle')\n",
    "    return mse_list \n",
    "\n",
    "def test(X_test, y_test, model):\n",
    "    \"\"\"\n",
    "        Implement this method such that it returns the\n",
    "        accuracy as the number of correctly classified\n",
    "        examples in the test set.\n",
    "        \n",
    "        params:\n",
    "        model (MLP): \n",
    "            An MLP model to be trained. \n",
    "            MLP model must inherit the MLPNetwork module.\n",
    "        X_test (np.ndarray): \n",
    "            Test set. 600 features per sample.\n",
    "        y_test (np.ndarray):\n",
    "            Training lables. 0 or 1.\n",
    "        \n",
    "    \"\"\"\n",
    "    accuracy = 0\n",
    "    if type(model) == MLPDropout:\n",
    "        model.training = False\n",
    "        \n",
    "    y_pred = step(model.forward(Tensor(X_test)))\n",
    "    for i in range(y_test.shape[0]):\n",
    "        if y_pred.value[i] == y_test[i]:\n",
    "            accuracy += 1\n",
    "        \n",
    "    return (accuracy*100) / len(y_test)\n",
    "    "
   ]
  },
  {
   "cell_type": "markdown",
   "metadata": {},
   "source": [
    "> __Dropout Layer in MLP Dropout__\n",
    "- Generate a mask:\n",
    "    - size = hidden layer\n",
    "    - values 1/0 using __keep_prob__ (probability of keeping the neuron, 1 means keep and 0 is drop)\n",
    "    - multiply the hidden layer activation with the mask and scale by keep_prob \n",
    "- Apply dropout to the gradient of the hidden layer"
   ]
  },
  {
   "cell_type": "markdown",
   "metadata": {},
   "source": [
    "### Experiment"
   ]
  },
  {
   "cell_type": "markdown",
   "metadata": {},
   "source": [
    "Select a value `lambda_lx` - the regularization parameter for L1 and L2 regularizers, and a `keep_prob` for Random DropOut. Using these values, train the 4 networks (No regularization, L1, L2 and DropOut regularized models respectively) with different number of hidden neurons ranging from 100-1700 in steps of 200. Tabulate the test accuracy of each of the models with same weight initialization and number of neurons in the hidden layer. The resulting table will be a 8x4 matrix.   Summarize your results in a short 280 word report."
   ]
  },
  {
   "cell_type": "code",
   "execution_count": 7,
   "metadata": {},
   "outputs": [],
   "source": [
    "### Dropout Probability, Hyperparameters and Optimizer\n",
    "\n",
    "keep_prob = 0.5\n",
    "lambda_l1 = 1e-2\n",
    "lambda_l2 = 1e-2\n",
    "lambdas = [lambda_l1, lambda_l2]\n",
    "alpha = 0.5\n",
    "opt = Optimizer(update_rule='sgd', lr=alpha)\n",
    "\n",
    "epochs = 200\n",
    "batch_size = 50"
   ]
  },
  {
   "cell_type": "code",
   "execution_count": 8,
   "metadata": {},
   "outputs": [],
   "source": [
    "n_in = 600\n",
    "n_hids = [i for i in range(100, 1501, 200)]\n",
    "n_out = 1"
   ]
  },
  {
   "cell_type": "markdown",
   "metadata": {},
   "source": [
    "> __NOTE:__  \n",
    "> Uncomment the lines in the cell below to get initial weights."
   ]
  },
  {
   "cell_type": "code",
   "execution_count": 9,
   "metadata": {},
   "outputs": [],
   "source": [
    "# for n_hid in n_hids:\n",
    "#     l1_weights = np.random.randn(n_in, n_hid)\n",
    "#     l2_weights = np.random.randn(n_hid, n_out)\n",
    "#     nn = MLPNetwork()\n",
    "#     nn._state['l1'] = l1_weights\n",
    "#     nn._state['l2'] = l2_weights\n",
    "#     nn.save_state(initial + '_' + str(n_hid) + '.pickle')"
   ]
  },
  {
   "cell_type": "code",
   "execution_count": 10,
   "metadata": {},
   "outputs": [],
   "source": [
    "### Initialize ordered dictionaries in order for mse for each type of network to be stored during training\n",
    "\n",
    "mse_MLP = OrderedDict()\n",
    "mse_MLP[0] = OrderedDict()\n",
    "mse_MLP[1] = OrderedDict()\n",
    "mse_MLP[2] = OrderedDict()\n",
    "\n",
    "mse_MLPDropout = OrderedDict()\n",
    "mse_MLPDropout[0] = OrderedDict()\n",
    "# mse_MLPDropout[1] = OrderedDict()\n",
    "# mse_MLPDropout[2] = OrderedDict()"
   ]
  },
  {
   "cell_type": "code",
   "execution_count": 11,
   "metadata": {},
   "outputs": [],
   "source": [
    "### Initialize ordered dictionaries in order for accuracies for each type of network to be stored during testing\n",
    "\n",
    "accuracy_MLP = OrderedDict()\n",
    "accuracy_MLP[0] = OrderedDict()\n",
    "accuracy_MLP[1] = OrderedDict()\n",
    "accuracy_MLP[2] = OrderedDict()\n",
    "\n",
    "accuracy_MLPDropout = OrderedDict()\n",
    "accuracy_MLPDropout[0] = OrderedDict()\n",
    "# accuracy_MLPDropout[1] = OrderedDict()\n",
    "# accuracy_MLPDropout[2] = OrderedDict()"
   ]
  },
  {
   "cell_type": "code",
   "execution_count": 12,
   "metadata": {
    "scrolled": true
   },
   "outputs": [
    {
     "name": "stderr",
     "output_type": "stream",
     "text": [
      "INFO:MLPNetwork:Initializing model params from file: ./data/initial_weights/InitialWeights_100.pickle\n",
      "INFO:MLPNetwork:Initializing weights using the file: ./data/initial_weights/InitialWeights_100.pickle\n",
      "INFO:MLPNetwork:Initialization complete.\n",
      "INFO:MLPNetwork:Params loaded: ['_state']\n"
     ]
    },
    {
     "name": "stdout",
     "output_type": "stream",
     "text": [
      "\n"
     ]
    },
    {
     "name": "stderr",
     "output_type": "stream",
     "text": [
      "INFO:MLPNetwork:Saving model params.\n",
      "DEBUG:MLPNetwork:_state\n",
      "DEBUG:MLPNetwork:l1\n",
      "DEBUG:MLPNetwork:l2\n"
     ]
    },
    {
     "name": "stdout",
     "output_type": "stream",
     "text": [
      "None 100 79.2\n",
      "\n"
     ]
    },
    {
     "name": "stderr",
     "output_type": "stream",
     "text": [
      "INFO:MLPNetwork:Saving model params.\n",
      "DEBUG:MLPNetwork:_state\n",
      "DEBUG:MLPNetwork:l1\n",
      "DEBUG:MLPNetwork:l2\n"
     ]
    },
    {
     "name": "stdout",
     "output_type": "stream",
     "text": [
      "1 100 91.0\n",
      "\n"
     ]
    },
    {
     "name": "stderr",
     "output_type": "stream",
     "text": [
      "INFO:MLPNetwork:Saving model params.\n",
      "DEBUG:MLPNetwork:_state\n",
      "DEBUG:MLPNetwork:l1\n",
      "DEBUG:MLPNetwork:l2\n"
     ]
    },
    {
     "name": "stdout",
     "output_type": "stream",
     "text": [
      "2 100 87.2\n",
      "\n"
     ]
    },
    {
     "name": "stderr",
     "output_type": "stream",
     "text": [
      "INFO:MLPNetwork:Saving model params.\n",
      "DEBUG:MLPNetwork:_state\n",
      "DEBUG:MLPNetwork:training\n",
      "DEBUG:MLPNetwork:dropout_p\n",
      "DEBUG:MLPNetwork:l1\n",
      "DEBUG:MLPNetwork:l2\n",
      "DEBUG:MLPNetwork:mask\n",
      "DEBUG:MLPNetwork:act\n",
      "INFO:MLPNetwork:Initializing model params from file: ./data/initial_weights/InitialWeights_300.pickle\n",
      "INFO:MLPNetwork:Initializing weights using the file: ./data/initial_weights/InitialWeights_300.pickle\n",
      "INFO:MLPNetwork:Initialization complete.\n",
      "INFO:MLPNetwork:Params loaded: ['_state']\n"
     ]
    },
    {
     "name": "stdout",
     "output_type": "stream",
     "text": [
      "Dropout 100 82.8\n",
      "\n",
      "\n"
     ]
    },
    {
     "name": "stderr",
     "output_type": "stream",
     "text": [
      "INFO:MLPNetwork:Saving model params.\n",
      "DEBUG:MLPNetwork:_state\n",
      "DEBUG:MLPNetwork:l1\n",
      "DEBUG:MLPNetwork:l2\n"
     ]
    },
    {
     "name": "stdout",
     "output_type": "stream",
     "text": [
      "None 300 80.0\n",
      "\n"
     ]
    },
    {
     "name": "stderr",
     "output_type": "stream",
     "text": [
      "INFO:MLPNetwork:Saving model params.\n",
      "DEBUG:MLPNetwork:_state\n",
      "DEBUG:MLPNetwork:l1\n",
      "DEBUG:MLPNetwork:l2\n"
     ]
    },
    {
     "name": "stdout",
     "output_type": "stream",
     "text": [
      "1 300 90.3\n",
      "\n"
     ]
    },
    {
     "name": "stderr",
     "output_type": "stream",
     "text": [
      "INFO:MLPNetwork:Saving model params.\n",
      "DEBUG:MLPNetwork:_state\n",
      "DEBUG:MLPNetwork:l1\n",
      "DEBUG:MLPNetwork:l2\n"
     ]
    },
    {
     "name": "stdout",
     "output_type": "stream",
     "text": [
      "2 300 88.0\n",
      "\n"
     ]
    },
    {
     "name": "stderr",
     "output_type": "stream",
     "text": [
      "INFO:MLPNetwork:Saving model params.\n",
      "DEBUG:MLPNetwork:_state\n",
      "DEBUG:MLPNetwork:training\n",
      "DEBUG:MLPNetwork:dropout_p\n",
      "DEBUG:MLPNetwork:l1\n",
      "DEBUG:MLPNetwork:l2\n",
      "DEBUG:MLPNetwork:mask\n",
      "DEBUG:MLPNetwork:act\n",
      "INFO:MLPNetwork:Initializing model params from file: ./data/initial_weights/InitialWeights_500.pickle\n",
      "INFO:MLPNetwork:Initializing weights using the file: ./data/initial_weights/InitialWeights_500.pickle\n",
      "INFO:MLPNetwork:Initialization complete.\n",
      "INFO:MLPNetwork:Params loaded: ['_state']\n"
     ]
    },
    {
     "name": "stdout",
     "output_type": "stream",
     "text": [
      "Dropout 300 80.5\n",
      "\n",
      "\n"
     ]
    },
    {
     "name": "stderr",
     "output_type": "stream",
     "text": [
      "INFO:MLPNetwork:Saving model params.\n",
      "DEBUG:MLPNetwork:_state\n",
      "DEBUG:MLPNetwork:l1\n",
      "DEBUG:MLPNetwork:l2\n"
     ]
    },
    {
     "name": "stdout",
     "output_type": "stream",
     "text": [
      "None 500 82.1\n",
      "\n"
     ]
    },
    {
     "name": "stderr",
     "output_type": "stream",
     "text": [
      "INFO:MLPNetwork:Saving model params.\n",
      "DEBUG:MLPNetwork:_state\n",
      "DEBUG:MLPNetwork:l1\n",
      "DEBUG:MLPNetwork:l2\n"
     ]
    },
    {
     "name": "stdout",
     "output_type": "stream",
     "text": [
      "1 500 90.3\n",
      "\n"
     ]
    },
    {
     "name": "stderr",
     "output_type": "stream",
     "text": [
      "INFO:MLPNetwork:Saving model params.\n",
      "DEBUG:MLPNetwork:_state\n",
      "DEBUG:MLPNetwork:l1\n",
      "DEBUG:MLPNetwork:l2\n"
     ]
    },
    {
     "name": "stdout",
     "output_type": "stream",
     "text": [
      "2 500 88.5\n",
      "\n"
     ]
    },
    {
     "name": "stderr",
     "output_type": "stream",
     "text": [
      "INFO:MLPNetwork:Saving model params.\n",
      "DEBUG:MLPNetwork:_state\n",
      "DEBUG:MLPNetwork:training\n",
      "DEBUG:MLPNetwork:dropout_p\n",
      "DEBUG:MLPNetwork:l1\n",
      "DEBUG:MLPNetwork:l2\n",
      "DEBUG:MLPNetwork:mask\n",
      "DEBUG:MLPNetwork:act\n",
      "INFO:MLPNetwork:Initializing model params from file: ./data/initial_weights/InitialWeights_700.pickle\n",
      "INFO:MLPNetwork:Initializing weights using the file: ./data/initial_weights/InitialWeights_700.pickle\n",
      "INFO:MLPNetwork:Initialization complete.\n",
      "INFO:MLPNetwork:Params loaded: ['_state']\n"
     ]
    },
    {
     "name": "stdout",
     "output_type": "stream",
     "text": [
      "Dropout 500 80.1\n",
      "\n",
      "\n"
     ]
    },
    {
     "name": "stderr",
     "output_type": "stream",
     "text": [
      "INFO:MLPNetwork:Saving model params.\n",
      "DEBUG:MLPNetwork:_state\n",
      "DEBUG:MLPNetwork:l1\n",
      "DEBUG:MLPNetwork:l2\n"
     ]
    },
    {
     "name": "stdout",
     "output_type": "stream",
     "text": [
      "None 700 82.1\n",
      "\n"
     ]
    },
    {
     "name": "stderr",
     "output_type": "stream",
     "text": [
      "INFO:MLPNetwork:Saving model params.\n",
      "DEBUG:MLPNetwork:_state\n",
      "DEBUG:MLPNetwork:l1\n",
      "DEBUG:MLPNetwork:l2\n"
     ]
    },
    {
     "name": "stdout",
     "output_type": "stream",
     "text": [
      "1 700 90.1\n",
      "\n"
     ]
    },
    {
     "name": "stderr",
     "output_type": "stream",
     "text": [
      "INFO:MLPNetwork:Saving model params.\n",
      "DEBUG:MLPNetwork:_state\n",
      "DEBUG:MLPNetwork:l1\n",
      "DEBUG:MLPNetwork:l2\n"
     ]
    },
    {
     "name": "stdout",
     "output_type": "stream",
     "text": [
      "2 700 88.0\n",
      "\n"
     ]
    },
    {
     "name": "stderr",
     "output_type": "stream",
     "text": [
      "INFO:MLPNetwork:Saving model params.\n",
      "DEBUG:MLPNetwork:_state\n",
      "DEBUG:MLPNetwork:training\n",
      "DEBUG:MLPNetwork:dropout_p\n",
      "DEBUG:MLPNetwork:l1\n",
      "DEBUG:MLPNetwork:l2\n",
      "DEBUG:MLPNetwork:mask\n",
      "DEBUG:MLPNetwork:act\n",
      "INFO:MLPNetwork:Initializing model params from file: ./data/initial_weights/InitialWeights_900.pickle\n",
      "INFO:MLPNetwork:Initializing weights using the file: ./data/initial_weights/InitialWeights_900.pickle\n",
      "INFO:MLPNetwork:Initialization complete.\n",
      "INFO:MLPNetwork:Params loaded: ['_state']\n"
     ]
    },
    {
     "name": "stdout",
     "output_type": "stream",
     "text": [
      "Dropout 700 79.1\n",
      "\n",
      "\n"
     ]
    },
    {
     "name": "stderr",
     "output_type": "stream",
     "text": [
      "INFO:MLPNetwork:Saving model params.\n",
      "DEBUG:MLPNetwork:_state\n",
      "DEBUG:MLPNetwork:l1\n",
      "DEBUG:MLPNetwork:l2\n"
     ]
    },
    {
     "name": "stdout",
     "output_type": "stream",
     "text": [
      "None 900 50.8\n",
      "\n"
     ]
    },
    {
     "name": "stderr",
     "output_type": "stream",
     "text": [
      "INFO:MLPNetwork:Saving model params.\n",
      "DEBUG:MLPNetwork:_state\n",
      "DEBUG:MLPNetwork:l1\n",
      "DEBUG:MLPNetwork:l2\n"
     ]
    },
    {
     "name": "stdout",
     "output_type": "stream",
     "text": [
      "1 900 90.4\n",
      "\n"
     ]
    },
    {
     "name": "stderr",
     "output_type": "stream",
     "text": [
      "INFO:MLPNetwork:Saving model params.\n",
      "DEBUG:MLPNetwork:_state\n",
      "DEBUG:MLPNetwork:l1\n",
      "DEBUG:MLPNetwork:l2\n"
     ]
    },
    {
     "name": "stdout",
     "output_type": "stream",
     "text": [
      "2 900 88.5\n",
      "\n"
     ]
    },
    {
     "name": "stderr",
     "output_type": "stream",
     "text": [
      "INFO:MLPNetwork:Saving model params.\n",
      "DEBUG:MLPNetwork:_state\n",
      "DEBUG:MLPNetwork:training\n",
      "DEBUG:MLPNetwork:dropout_p\n",
      "DEBUG:MLPNetwork:l1\n",
      "DEBUG:MLPNetwork:l2\n",
      "DEBUG:MLPNetwork:mask\n",
      "DEBUG:MLPNetwork:act\n",
      "INFO:MLPNetwork:Initializing model params from file: ./data/initial_weights/InitialWeights_1100.pickle\n",
      "INFO:MLPNetwork:Initializing weights using the file: ./data/initial_weights/InitialWeights_1100.pickle\n",
      "INFO:MLPNetwork:Initialization complete.\n",
      "INFO:MLPNetwork:Params loaded: ['_state']\n"
     ]
    },
    {
     "name": "stdout",
     "output_type": "stream",
     "text": [
      "Dropout 900 67.9\n",
      "\n",
      "\n"
     ]
    },
    {
     "name": "stderr",
     "output_type": "stream",
     "text": [
      "INFO:MLPNetwork:Saving model params.\n",
      "DEBUG:MLPNetwork:_state\n",
      "DEBUG:MLPNetwork:l1\n",
      "DEBUG:MLPNetwork:l2\n"
     ]
    },
    {
     "name": "stdout",
     "output_type": "stream",
     "text": [
      "None 1100 81.3\n",
      "\n"
     ]
    },
    {
     "name": "stderr",
     "output_type": "stream",
     "text": [
      "INFO:MLPNetwork:Saving model params.\n",
      "DEBUG:MLPNetwork:_state\n",
      "DEBUG:MLPNetwork:l1\n",
      "DEBUG:MLPNetwork:l2\n"
     ]
    },
    {
     "name": "stdout",
     "output_type": "stream",
     "text": [
      "1 1100 90.2\n",
      "\n"
     ]
    },
    {
     "name": "stderr",
     "output_type": "stream",
     "text": [
      "INFO:MLPNetwork:Saving model params.\n",
      "DEBUG:MLPNetwork:_state\n",
      "DEBUG:MLPNetwork:l1\n",
      "DEBUG:MLPNetwork:l2\n"
     ]
    },
    {
     "name": "stdout",
     "output_type": "stream",
     "text": [
      "2 1100 88.6\n",
      "\n"
     ]
    },
    {
     "name": "stderr",
     "output_type": "stream",
     "text": [
      "INFO:MLPNetwork:Saving model params.\n",
      "DEBUG:MLPNetwork:_state\n",
      "DEBUG:MLPNetwork:training\n",
      "DEBUG:MLPNetwork:dropout_p\n",
      "DEBUG:MLPNetwork:l1\n",
      "DEBUG:MLPNetwork:l2\n",
      "DEBUG:MLPNetwork:mask\n",
      "DEBUG:MLPNetwork:act\n",
      "INFO:MLPNetwork:Initializing model params from file: ./data/initial_weights/InitialWeights_1300.pickle\n",
      "INFO:MLPNetwork:Initializing weights using the file: ./data/initial_weights/InitialWeights_1300.pickle\n",
      "INFO:MLPNetwork:Initialization complete.\n",
      "INFO:MLPNetwork:Params loaded: ['_state']\n"
     ]
    },
    {
     "name": "stdout",
     "output_type": "stream",
     "text": [
      "Dropout 1100 79.5\n",
      "\n",
      "\n"
     ]
    },
    {
     "name": "stderr",
     "output_type": "stream",
     "text": [
      "INFO:MLPNetwork:Saving model params.\n",
      "DEBUG:MLPNetwork:_state\n",
      "DEBUG:MLPNetwork:l1\n",
      "DEBUG:MLPNetwork:l2\n"
     ]
    },
    {
     "name": "stdout",
     "output_type": "stream",
     "text": [
      "None 1300 51.3\n",
      "\n"
     ]
    },
    {
     "name": "stderr",
     "output_type": "stream",
     "text": [
      "INFO:MLPNetwork:Saving model params.\n",
      "DEBUG:MLPNetwork:_state\n",
      "DEBUG:MLPNetwork:l1\n",
      "DEBUG:MLPNetwork:l2\n"
     ]
    },
    {
     "name": "stdout",
     "output_type": "stream",
     "text": [
      "1 1300 89.5\n",
      "\n"
     ]
    },
    {
     "name": "stderr",
     "output_type": "stream",
     "text": [
      "INFO:MLPNetwork:Saving model params.\n",
      "DEBUG:MLPNetwork:_state\n",
      "DEBUG:MLPNetwork:l1\n",
      "DEBUG:MLPNetwork:l2\n"
     ]
    },
    {
     "name": "stdout",
     "output_type": "stream",
     "text": [
      "2 1300 88.0\n",
      "\n"
     ]
    },
    {
     "name": "stderr",
     "output_type": "stream",
     "text": [
      "INFO:MLPNetwork:Saving model params.\n",
      "DEBUG:MLPNetwork:_state\n",
      "DEBUG:MLPNetwork:training\n",
      "DEBUG:MLPNetwork:dropout_p\n",
      "DEBUG:MLPNetwork:l1\n",
      "DEBUG:MLPNetwork:l2\n",
      "DEBUG:MLPNetwork:mask\n",
      "DEBUG:MLPNetwork:act\n",
      "INFO:MLPNetwork:Initializing model params from file: ./data/initial_weights/InitialWeights_1500.pickle\n",
      "INFO:MLPNetwork:Initializing weights using the file: ./data/initial_weights/InitialWeights_1500.pickle\n",
      "INFO:MLPNetwork:Initialization complete.\n",
      "INFO:MLPNetwork:Params loaded: ['_state']\n"
     ]
    },
    {
     "name": "stdout",
     "output_type": "stream",
     "text": [
      "Dropout 1300 69.5\n",
      "\n",
      "\n"
     ]
    },
    {
     "name": "stderr",
     "output_type": "stream",
     "text": [
      "INFO:MLPNetwork:Saving model params.\n",
      "DEBUG:MLPNetwork:_state\n",
      "DEBUG:MLPNetwork:l1\n",
      "DEBUG:MLPNetwork:l2\n"
     ]
    },
    {
     "name": "stdout",
     "output_type": "stream",
     "text": [
      "None 1500 79.8\n",
      "\n"
     ]
    },
    {
     "name": "stderr",
     "output_type": "stream",
     "text": [
      "INFO:MLPNetwork:Saving model params.\n",
      "DEBUG:MLPNetwork:_state\n",
      "DEBUG:MLPNetwork:l1\n",
      "DEBUG:MLPNetwork:l2\n"
     ]
    },
    {
     "name": "stdout",
     "output_type": "stream",
     "text": [
      "1 1500 90.8\n",
      "\n"
     ]
    },
    {
     "name": "stderr",
     "output_type": "stream",
     "text": [
      "INFO:MLPNetwork:Saving model params.\n",
      "DEBUG:MLPNetwork:_state\n",
      "DEBUG:MLPNetwork:l1\n",
      "DEBUG:MLPNetwork:l2\n"
     ]
    },
    {
     "name": "stdout",
     "output_type": "stream",
     "text": [
      "2 1500 87.6\n",
      "\n"
     ]
    },
    {
     "name": "stderr",
     "output_type": "stream",
     "text": [
      "INFO:MLPNetwork:Saving model params.\n",
      "DEBUG:MLPNetwork:_state\n",
      "DEBUG:MLPNetwork:training\n",
      "DEBUG:MLPNetwork:dropout_p\n",
      "DEBUG:MLPNetwork:l1\n",
      "DEBUG:MLPNetwork:l2\n",
      "DEBUG:MLPNetwork:mask\n",
      "DEBUG:MLPNetwork:act\n"
     ]
    },
    {
     "name": "stdout",
     "output_type": "stream",
     "text": [
      "Dropout 1500 76.9\n",
      "\n"
     ]
    }
   ],
   "source": [
    "\"\"\"\n",
    "1. Load Initial Weights into MLP and MLPDropout Networks\n",
    "2. Train and store MSE in dictionaries\n",
    "3. Test and store accuracy in dictionaries\n",
    "\"\"\"\n",
    "\n",
    "for n_hid in n_hids:\n",
    "    print ()\n",
    "    nn = MLPNetwork()\n",
    "    nn.load_state(initial_weights_dir + '_' + str(n_hid) + '.pickle')\n",
    "    \n",
    "    for i in range(3):\n",
    "        \n",
    "        l1_weights, l2_weights = nn._state['l1'], nn._state['l2']\n",
    "\n",
    "        mlp = MLP(l1_weights, l2_weights)\n",
    "        mse_MLP[i][n_hid] = train(mlp, X_train, y_train, epochs, batch_size, opt, i, lambdas)\n",
    "        accuracy_MLP[i][n_hid] = test(X_test, y_test, mlp)\n",
    "        print (i if i > 0 else None, n_hid, accuracy_MLP[i][n_hid])\n",
    "        print ()\n",
    "        \n",
    "    l1_weights, l2_weights = nn._state['l1'], nn._state['l2']\n",
    "\n",
    "    mlp_dropout = MLPDropout(l1_weights, l2_weights, keep_prob)\n",
    "    mse_MLPDropout[0][n_hid] = train(mlp_dropout, X_train, y_train, epochs, batch_size, opt, 0, lambdas)\n",
    "    accuracy_MLPDropout[0][n_hid] = test(X_test, y_test, mlp_dropout)\n",
    "    print ('Dropout', n_hid, accuracy_MLPDropout[0][n_hid])    \n",
    "    print ()\n"
   ]
  },
  {
   "cell_type": "code",
   "execution_count": 13,
   "metadata": {},
   "outputs": [],
   "source": [
    "# print (accuracy_MLP)"
   ]
  },
  {
   "cell_type": "code",
   "execution_count": 14,
   "metadata": {},
   "outputs": [],
   "source": [
    "# print (accuracy_MLPDropout)"
   ]
  },
  {
   "cell_type": "code",
   "execution_count": 15,
   "metadata": {
    "scrolled": false
   },
   "outputs": [],
   "source": [
    "# print (\"Accuracies\")\n",
    "# for n_hid in n_hids:\n",
    "#     print (\"********************************************\")\n",
    "#     print (\"Hidden Neurons:\", n_hid)\n",
    "#     print (\"********************************************\")\n",
    "#     print ()\n",
    "#     for i in range(3):\n",
    "#         print (\"Regularization:\", \"None\" if i == 0 else \"L1\" if i == 1 else \"L2\")\n",
    "#         print ()\n",
    "#         print (\"MLP:\", accuracy_MLP[i][n_hid])\n",
    "#         print ()\n",
    "#     print (\"MLP Dropout:\", accuracy_MLPDropout[0][n_hid])"
   ]
  },
  {
   "cell_type": "code",
   "execution_count": 16,
   "metadata": {},
   "outputs": [
    {
     "data": {
      "image/png": "[encoded data removed]",
      "text/plain": [
       "<Figure size 432x288 with 1 Axes>"
      ]
     },
     "metadata": {},
     "output_type": "display_data"
    }
   ],
   "source": [
    "### Plots\n",
    "\n",
    "plt.plot(n_hids, accuracy_MLP[0].values(), label='No Reg')\n",
    "plt.plot(n_hids, accuracy_MLP[1].values(), label='L1')\n",
    "plt.plot(n_hids, accuracy_MLP[2].values(), label='L2')\n",
    "plt.plot(n_hids, accuracy_MLPDropout[0].values(), label='Dropout')\n",
    "plt.title('Accuracy vs Hidden Layer Neurons')\n",
    "plt.legend()\n",
    "plt.show()"
   ]
  },
  {
   "cell_type": "code",
   "execution_count": 55,
   "metadata": {},
   "outputs": [],
   "source": [
    "# accuracy_table_MLP = pd.DataFrame(accuracy_MLP)\n",
    "# accuracy_table_MLP.columns = ['MLP No Reg','MLP L1','MLP L2']\n",
    "# accuracy_table_MLPDropout = pd.DataFrame(accuracy_MLPDropout)\n",
    "# accuracy_table_MLPDropout.columns = ['Dropout']\n",
    "# accuracy_table_MLP.join(accuracy_table_MLPDropout)"
   ]
  },
  {
   "cell_type": "code",
   "execution_count": 56,
   "metadata": {},
   "outputs": [],
   "source": [
    "### Helper function to get table to printout in Markdown\n",
    "\n",
    "def get_rows():\n",
    "    header = \"|      | No Reg  |   L1    | L2      | Dropout |\"\n",
    "    header += \"|------|---------|---------|---------|---------|\"\n",
    "    for n_hid in n_hids:\n",
    "        space = 0\n",
    "        if n_hid < 1000:\n",
    "            space = 1\n",
    "        row = \"| \"+str(n_hid)+ + space * ' ' + \" | \"\n",
    "        for i in range(3):\n",
    "            row += \"%.2f\" % round(accuracy_MLP[i][n_hid],2) + \"   | \"\n",
    "        row += \"%.2f\" % round(accuracy_MLPDropout[0][n_hid],2) + \"   | \"\n",
    "    return header + row"
   ]
  },
  {
   "cell_type": "markdown",
   "metadata": {},
   "source": [
    "## Analysis"
   ]
  },
  {
   "cell_type": "markdown",
   "metadata": {},
   "source": [
    "- I first estimated the hyperparameters to consider.\n",
    "- I started by keeping these values very small and then increasing them depending on the results.\n",
    "- Starting with 100 epochs, by keeping the learning rate (alpha) of $10^{-4}$ and lower, the accuracy would not go over $49-52\\ \\%$\n",
    "    - Even with increasing epochs, there was not much improvement. Hence I increased the alpha values slowly.\n",
    "    - Experimenting with the alpha values, I discovered that $0.1$ and $0.5$ worked well.\n",
    "- Similarly, regularization parameters performed well in the order of $10^{-2}$\n",
    "\n",
    "- I experimented with the keep_prob by first considering a high probability - $0.8$ and then going lower. I discovered that the best results I got were for $0.5$. While increasing dropout increases time to convergence, it decreases the time spent on each epoch.\n",
    "\n",
    "- Decreasing the batch size also helped. Starting out with 100, I found out that keeping the batch size 50 was optimal taking into consideration the amount of time taken to run each epoch."
   ]
  },
  {
   "cell_type": "markdown",
   "metadata": {},
   "source": [
    "## Results of experiments and analysis"
   ]
  },
  {
   "cell_type": "markdown",
   "metadata": {},
   "source": [
    "> __Experiment 1__:\n",
    "- alpha = $0.1$\n",
    "- L1: $\\lambda$ = $0.001$\n",
    "- L2: $\\lambda$ = $0.01$\n",
    "- epochs = $100$\n",
    "- batch_size = $50$\n",
    "- keep_prob = $0.8$\n",
    ">\n",
    "> Results:  \n",
    ">\n",
    ">|      | No Reg  |   L1    | L2      | Dropout |\n",
    "|------|---------|---------|---------|---------|\n",
    "| 100  | 54.00   | 60.40   | 87.90   | 65.70   | \n",
    "| 300  | 59.90   | 65.90   | 88.20   | 66.30   | \n",
    "| 500  | 64.40   | 69.20   | 88.40   | 68.70   | \n",
    "| 700  | 65.50   | 68.50   | 88.00   | 65.30   | \n",
    "| 900  | 59.80   | 68.10   | 87.80   | 67.30   | \n",
    "| 1100 | 63.10   | 71.50   | 87.70   | 65.50   | \n",
    "| 1300 | 68.60   | 69.90   | 88.20   | 65.70   | \n",
    "| 1500 | 64.20   | 69.60   | 88.50   | 63.70   |  \n",
    "> As seen, the L1 $\\lambda$ did not affect the accuracy as well as the L2 $\\lambda$ which suggests that $10^{-3}$ is too less to affect the performance."
   ]
  },
  {
   "cell_type": "code",
   "execution_count": 63,
   "metadata": {},
   "outputs": [],
   "source": [
    "accuracy_100_no_reg = [54.0, 59.9, 64.4, 65.5, 59.8, 63.1, 68.6, 64.2]\n",
    "accuracy_100_l1_reg = [60.4, 65.9, 69.2, 68.5, 68.1, 71.5, 69.9, 69.9]\n",
    "accuracy_100_l2_reg = [87.9, 88.3, 88.4, 88.0, 87.8, 87.7, 88.2, 88.5]\n",
    "accuracy_100_dropout = [65.7, 66.3, 68.7, 65.3, 67.3, 65.5, 65.7, 63.7]"
   ]
  },
  {
   "cell_type": "markdown",
   "metadata": {},
   "source": [
    "> __Experiment 2__:\n",
    "- alpha = $0.5$\n",
    "- L1: $\\lambda$ = $0.01$\n",
    "- L2: $\\lambda$ = $0.01$\n",
    "- epochs = $200$\n",
    "- batch_size = $50$\n",
    "- keep_prob = $0.5$ \n",
    ">\n",
    "> Results:\n",
    ">\n",
    ">|      | No Reg  |   L1    | L2      | Dropout |\n",
    "|------|---------|---------|---------|---------|\n",
    "| 100  | 79.20   | 91.00   | 87.20   | 82.80   | \n",
    "| 300  | 80.00   | 90.30   | 88.00   | 80.50   | \n",
    "| 500  | 82.10   | 90.30   | 88.50   | 80.10   | \n",
    "| 700  | 82.10   | 90.10   | 88.00   | 79.10   | \n",
    "| 900  | 50.80   | 90.40   | 88.50   | 67.90   | \n",
    "| 1100 | 81.30   | 90.20   | 88.60   | 79.50   | \n",
    "| 1300 | 51.30   | 89.50   | 88.00   | 69.50   | \n",
    "| 1500 | 79.80   | 90.80   | 87.60   | 76.90   |\n",
    ">\n",
    "> As seen from the results:\n",
    "- No Regularization overfits when the model complexity increases to $\\geq 900$ hidden neurons.\n",
    "- L1 performs well suggesting that $0.01$ is a good value.\n",
    "- L2 performs well suggesting that $0.01$ is a good value.\n",
    "- Decreasing dropout to $0.5$ shows better performance than previous\n",
    "    - Decreased time to run each epoch\n",
    "    - Increased time for convergence"
   ]
  },
  {
   "cell_type": "code",
   "execution_count": 64,
   "metadata": {},
   "outputs": [],
   "source": [
    "accuracy_200_no_reg = [79.2, 80.0, 82.1, 82.1, 50.8, 81.3, 51.3, 79.8]\n",
    "accuracy_200_l1_reg = [91.0, 90.3, 90.3, 90.1, 90.4, 90.2, 89.5, 90.8]\n",
    "accuracy_200_l2_reg = [87.2, 88.0, 88.5, 88.0, 88.5, 88.6, 88.0, 87.6]\n",
    "accuracy_200_dropout = [82.8, 80.5, 80.1, 79.1, 67.9, 79.5, 69.5, 76.9]"
   ]
  },
  {
   "cell_type": "markdown",
   "metadata": {},
   "source": [
    "> __Experiment 3__:\n",
    "- alpha = $0.5$\n",
    "- L1: $\\lambda$ = $0.01$\n",
    "- L2: $\\lambda$ = $0.01$\n",
    "- epochs = $300$\n",
    "- batch_size = $50$\n",
    "- keep_prob = $0.5$  \n",
    ">\n",
    ">\n",
    ">- Results:  \n",
    ">\n",
    ">|      | No Reg  |   L1    | L2      | Dropout |\n",
    "|------|---------|---------|---------|---------|\n",
    "| 100  | 79.10   | 91.00   | 88.40   | 82.50   | \n",
    "| 300  | 82.10   | 90.10   | 86.70   | 82.10   | \n",
    "| 500  | 82.50   | 91.30   | 86.90   | 82.00   | \n",
    "| 700  | 50.80   | 89.90   | 87.70   | 80.90   | \n",
    "| 900  | 49.20   | 89.80   | 88.40   | 80.80   | \n",
    "| 1100 | 49.20   | 90.40   | 87.90   | 78.00   | \n",
    "| 1300 | 50.70   | 89.80   | 87.30   | 80.50   | \n",
    "| 1500 | 49.00   | 90.60   | 87.70   | 73.80   | \n",
    "> As seen from the results:\n",
    "- No Regularization overfits when the model complexity increases to $\\geq 900$ hidden neurons.\n",
    "- L1 performs well suggesting that $0.01$ is a good value.\n",
    "- L2 performs well suggesting that $0.01$ is a good value.\n",
    "- Decreasing dropout to $0.5$ shows similar performance to previous"
   ]
  },
  {
   "cell_type": "code",
   "execution_count": 65,
   "metadata": {},
   "outputs": [],
   "source": [
    "accuracy_300_no_reg = [79.1, 82.1, 82.5, 50.8, 49.2, 49.2, 50.7, 49.0]\n",
    "accuracy_300_l1_reg = [91.0, 90.1, 91.3, 89.9, 89.8, 90.4, 89.8, 90.6]\n",
    "accuracy_300_l2_reg = [88.4, 86.7, 86.9, 87.7, 88.4, 87.9, 87.3, 87.7]\n",
    "accuracy_300_dropout = [82.5, 82.1, 82.0, 80.9, 80.8, 78.0, 80.5, 73.8]"
   ]
  },
  {
   "cell_type": "markdown",
   "metadata": {},
   "source": [
    "## Plots\n",
    "\n",
    "### Accuracies for each epoch for No Regularization"
   ]
  },
  {
   "cell_type": "code",
   "execution_count": 66,
   "metadata": {},
   "outputs": [
    {
     "data": {
      "image/png": "[encoded data removed]",
      "text/plain": [
       "<Figure size 432x288 with 1 Axes>"
      ]
     },
     "metadata": {},
     "output_type": "display_data"
    }
   ],
   "source": [
    "### Taking values from previously done experiments\n",
    "\n",
    "no_reg_100 = [54.0, 59.9, 64.4, 65.5, 59.8, 63.1, 68.6, 64.2]\n",
    "no_reg_200 = [79.2, 80.0, 82.1, 82.1, 50.8, 81.3, 51.3, 79.8]\n",
    "no_reg_300 = [79.1, 82.1, 82.5, 50.8, 49.2, 49.2, 50.70, 49.0]\n",
    "\n",
    "plt.plot(n_hids, no_reg_100, label='100')\n",
    "plt.plot(n_hids, no_reg_200, label='200')\n",
    "plt.plot(n_hids, no_reg_300, label='300')\n",
    "plt.title('Performance of No Regularization')\n",
    "plt.xlabel('Hidden Neurons')\n",
    "plt.ylabel('Accuracy')\n",
    "plt.legend()\n",
    "plt.show()"
   ]
  },
  {
   "cell_type": "markdown",
   "metadata": {},
   "source": [
    "- The above graph shows that $500$ hidden neurons shows good values before the model's accuracy starts to get affected.\n",
    "- Now displaying the model's MSE values for $500$ hidden neurons."
   ]
  },
  {
   "cell_type": "code",
   "execution_count": 67,
   "metadata": {},
   "outputs": [
    {
     "data": {
      "image/png": "[encoded data removed]",
      "text/plain": [
       "<Figure size 864x144 with 1 Axes>"
      ]
     },
     "metadata": {},
     "output_type": "display_data"
    }
   ],
   "source": [
    "plt.figure(figsize=(12,2))\n",
    "plt.plot(range(epochs), mse_MLP[0][500], label='No Reg')\n",
    "plt.title('No Regularization Performance for 500 Hidden Neurons')\n",
    "plt.xlabel('Epochs')\n",
    "plt.ylabel('MSE')\n",
    "plt.legend()\n",
    "plt.show()"
   ]
  },
  {
   "cell_type": "code",
   "execution_count": 68,
   "metadata": {},
   "outputs": [
    {
     "data": {
      "image/png": "[encoded data removed]",
      "text/plain": [
       "<Figure size 864x144 with 1 Axes>"
      ]
     },
     "metadata": {},
     "output_type": "display_data"
    }
   ],
   "source": [
    "plt.figure(figsize=(12,2))\n",
    "plt.plot(range(epochs), mse_MLP[1][500], label='L1')\n",
    "plt.title('L1 Performance for 500 Hidden Neurons')\n",
    "plt.xlabel('Epochs')\n",
    "plt.ylabel('MSE')\n",
    "plt.legend()\n",
    "plt.show()"
   ]
  },
  {
   "cell_type": "code",
   "execution_count": 69,
   "metadata": {},
   "outputs": [
    {
     "data": {
      "image/png": "[encoded data removed]",
      "text/plain": [
       "<Figure size 864x144 with 1 Axes>"
      ]
     },
     "metadata": {},
     "output_type": "display_data"
    }
   ],
   "source": [
    "plt.figure(figsize=(12,2))\n",
    "plt.plot(range(epochs), mse_MLP[2][500], label='L2')\n",
    "plt.title('L2 Performance for 500 Hidden Neurons')\n",
    "plt.xlabel('Epochs')\n",
    "plt.ylabel('MSE')\n",
    "plt.legend()\n",
    "plt.show()"
   ]
  },
  {
   "cell_type": "code",
   "execution_count": 70,
   "metadata": {},
   "outputs": [
    {
     "data": {
      "image/png": "[encoded data removed]",
      "text/plain": [
       "<Figure size 864x144 with 1 Axes>"
      ]
     },
     "metadata": {},
     "output_type": "display_data"
    }
   ],
   "source": [
    "plt.figure(figsize=(12,2))\n",
    "plt.plot(range(epochs), mse_MLPDropout[0][500], label='Dropout')\n",
    "plt.title('Dropout Performance for 500 Hidden Neurons')\n",
    "plt.xlabel('Epochs')\n",
    "plt.ylabel('MSE')\n",
    "plt.legend()\n",
    "plt.show()"
   ]
  },
  {
   "cell_type": "markdown",
   "metadata": {},
   "source": [
    "- No Regularization, L1, L2 reach convergence before 200 epochs\n",
    "- MSE for Dropout decreases significantly, but it has not reached convergence."
   ]
  },
  {
   "cell_type": "markdown",
   "metadata": {},
   "source": [
    "#### Now showing the performance of each network from each experiment"
   ]
  },
  {
   "cell_type": "code",
   "execution_count": 76,
   "metadata": {},
   "outputs": [
    {
     "data": {
      "image/png": "[encoded data removed]",
      "text/plain": [
       "<Figure size 432x288 with 1 Axes>"
      ]
     },
     "metadata": {},
     "output_type": "display_data"
    }
   ],
   "source": [
    "plt.plot(n_hids, accuracy_100_no_reg, label='No Reg')\n",
    "plt.plot(n_hids, accuracy_100_l1_reg, label='L1')\n",
    "plt.plot(n_hids, accuracy_100_l2_reg, label='L2')\n",
    "plt.plot(n_hids, accuracy_100_dropout, label='Dropout')\n",
    "plt.title('Performance of Networks for 100 epochs')\n",
    "plt.xlabel('Hidden Neurons')\n",
    "plt.ylabel('Accuracy')\n",
    "plt.legend()\n",
    "plt.show()"
   ]
  },
  {
   "cell_type": "code",
   "execution_count": 77,
   "metadata": {},
   "outputs": [
    {
     "data": {
      "image/png": "[encoded data removed]",
      "text/plain": [
       "<Figure size 432x288 with 1 Axes>"
      ]
     },
     "metadata": {},
     "output_type": "display_data"
    }
   ],
   "source": [
    "plt.plot(n_hids, accuracy_200_no_reg, label='No Reg')\n",
    "plt.plot(n_hids, accuracy_200_l1_reg, label='L1')\n",
    "plt.plot(n_hids, accuracy_200_l2_reg, label='L2')\n",
    "plt.plot(n_hids, accuracy_200_dropout, label='Dropout')\n",
    "plt.title('Performance of Networks for 200 epochs')\n",
    "plt.xlabel('Hidden Neurons')\n",
    "plt.ylabel('Accuracy')\n",
    "plt.legend()\n",
    "plt.show()"
   ]
  },
  {
   "cell_type": "code",
   "execution_count": 78,
   "metadata": {},
   "outputs": [
    {
     "data": {
      "image/png": "[encoded data removed]",
      "text/plain": [
       "<Figure size 432x288 with 1 Axes>"
      ]
     },
     "metadata": {},
     "output_type": "display_data"
    }
   ],
   "source": [
    "plt.plot(n_hids, accuracy_300_no_reg, label='No Reg')\n",
    "plt.plot(n_hids, accuracy_300_l1_reg, label='L1')\n",
    "plt.plot(n_hids, accuracy_300_l2_reg, label='L2')\n",
    "plt.plot(n_hids, accuracy_300_dropout, label='Dropout')\n",
    "plt.title('Performance of Networks for 300 epochs')\n",
    "plt.xlabel('Hidden Neurons')\n",
    "plt.ylabel('Accuracy')\n",
    "plt.legend()\n",
    "plt.show()"
   ]
  }
 ],
 "metadata": {
  "kernelspec": {
   "display_name": "Python 3",
   "language": "python",
   "name": "python3"
  },
  "language_info": {
   "codemirror_mode": {
    "name": "ipython",
    "version": 3
   },
   "file_extension": ".py",
   "mimetype": "text/x-python",
   "name": "python",
   "nbconvert_exporter": "python",
   "pygments_lexer": "ipython3",
   "version": "3.6.5"
  }
 },
 "nbformat": 4,
 "nbformat_minor": 2
}
