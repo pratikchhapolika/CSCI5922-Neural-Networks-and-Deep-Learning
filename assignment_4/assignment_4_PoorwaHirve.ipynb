{
 "cells": [
  {
   "cell_type": "markdown",
   "metadata": {},
   "source": [
    "# MLP using Automatic Differentiation\n",
    "\n",
    "***\n",
    "**Name**: __Poorwa Hirve__\n",
    "***\n",
    "\n",
    "## Goal\n",
    "\n",
    "The goal of this assignment is to build 1 layer MLP network using the framework that you built in **Assignment 3**."
   ]
  },
  {
   "cell_type": "code",
   "execution_count": 1,
   "metadata": {},
   "outputs": [],
   "source": [
    "from tensor import Tensor\n",
    "import numpy as np\n",
    "from sklearn.datasets import make_classification\n",
    "from sklearn.utils import shuffle\n",
    "from matplotlib import pyplot as plt"
   ]
  },
  {
   "cell_type": "markdown",
   "metadata": {},
   "source": [
    "### 1. Implementing the model"
   ]
  },
  {
   "cell_type": "code",
   "execution_count": 2,
   "metadata": {},
   "outputs": [],
   "source": [
    "class MLP(object):\n",
    "    def __init__(self, n_in, n_hid, n_out):\n",
    "        \"\"\"\n",
    "        Initialize Layers (hidden and output) of the network.\n",
    "        Note: Tensors are used here instead of ndarrays, operations\n",
    "        on tensors such as dot, add, subtract, pow will allow us\n",
    "        to keep track of the computational graph, thereby making\n",
    "        gradient computation easier using a simple call to the \n",
    "        loss (MSE in this case).\n",
    "        \n",
    "        params:\n",
    "        n_in (int): Number of input neurons.\n",
    "        n_hid (int): Number of neurons in hidden layer.\n",
    "        n_out (int): Number of neurons in output layer. \n",
    "        \"\"\"\n",
    "\n",
    "        self.l1 = Tensor(np.random.randn(n_in, n_hid))\n",
    "        self.l2 = Tensor(np.random.randn(n_hid, n_out))\n",
    "\n",
    "    def forward(self, X):\n",
    "        \"\"\"\n",
    "        Implement the forward pass.\n",
    "\n",
    "        params:\n",
    "        X (NxM Tensor):\n",
    "            M dimensional input to be feed forward to the network.\n",
    "\n",
    "        returns:\n",
    "\n",
    "        y_hat (1xN Tensor): activations of the output layer.\n",
    "        \"\"\"\n",
    "        # TO-DO\n",
    "        # Obtain final layer activations using tensors.\n",
    "        # Unlike Assignment 3, you do not need to hold intermediate\n",
    "        # values here as the AD architecture will build the computational\n",
    "        # graph you.\n",
    "        \n",
    "#         X = Tensor(X)\n",
    "\n",
    "        z1 = (X.dot(self.l1)).relu()\n",
    "        z2 = (z1.dot(self.l2)).relu()\n",
    "        \n",
    "        return z2\n",
    "        \n",
    "    def update(self, step_size):\n",
    "        \"\"\"\n",
    "        Implement the update rule for network weights and biases.\n",
    "\n",
    "        return:\n",
    "\n",
    "        none.\n",
    "        \"\"\"\n",
    "        \n",
    "        # TO-DO\n",
    "        self.l1.value = self.l1.value - step_size * self.l1.grad\n",
    "        self.l2.value = self.l2.value - step_size * self.l2.grad\n",
    "        \n",
    "    def zero_grad(self):\n",
    "        \"\"\"\n",
    "        Resets gradients for each layer defined in\n",
    "        the constructor.\n",
    "        \"\"\"\n",
    "        # TO-DO\n",
    "        self.l1.zero_grad()\n",
    "        self.l2.zero_grad()"
   ]
  },
  {
   "cell_type": "markdown",
   "metadata": {},
   "source": [
    "### 2. Train the model "
   ]
  },
  {
   "cell_type": "code",
   "execution_count": 3,
   "metadata": {},
   "outputs": [],
   "source": [
    "def train(model, X, y, epochs, lr, batch_size):\n",
    "    \"\"\"\n",
    "    Implement the train loop.\n",
    "    Make sure gradients are reset after each call to forward.\n",
    "    \n",
    "    params:\n",
    "    model (MLP): 1-hidden-layer MLP model to be trained.\n",
    "    X (Nx5 ndarray): Training inputs.\n",
    "    y (Nx1 ndarray): Groundtruth labels.\n",
    "    epochs (int): number of epochs for training\n",
    "    lr (float32): Learning-rate/Step-size for gradient descent. \n",
    "    \n",
    "    returns:\n",
    "    Implementation choice.\n",
    "    \"\"\"\n",
    "    # TO-DO\n",
    "    # For each mini batch, do the following:\n",
    "    # 1. Obtain predictions using forward().\n",
    "    # 2. Compute MSE loss.\n",
    "    # 3. Accumulate layer gradients using the backward call\n",
    "    #    on loss.\n",
    "    # 4. update() layer weights using gradient descent.\n",
    "    #   NOTE: you do not need to maintain computational\n",
    "    #\n",
    "    \n",
    "    epoch_list = []\n",
    "    \n",
    "    batches = int(X.shape[0] / batch_size)\n",
    "    for i in range(epochs):\n",
    "        X, y = shuffle(X, y)\n",
    "        batch_error = []\n",
    "        \n",
    "        for j in range(0, X.shape[0], batch_size):\n",
    "            y_hat = model.forward(Tensor(X[j:j+batch_size]))\n",
    "            model.zero_grad()\n",
    "            y_actual = Tensor(y[j:j+batch_size])\n",
    "            \n",
    "            error = (y_hat - y_actual).pow(2).mean()\n",
    "            batch_error.append(error.value)\n",
    "            error.backward()\n",
    "            \n",
    "            model.update(lr)\n",
    "            \n",
    "        epoch_list.append(sum(batch_error) / batches)\n",
    "        \n",
    "    return epoch_list"
   ]
  },
  {
   "cell_type": "markdown",
   "metadata": {},
   "source": [
    "### 3. Experiment\n",
    "***\n",
    "\n",
    "**Part 3.A**  \n",
    "\n",
    "Create a model with $I = 5$ inputs, $H = 100$ and $O = 1$ output neuron. Train the model for 100 epochs using the dataset below. Plot the MSE loss for each epoch. You do not need to threshold/binarize the outputs."
   ]
  },
  {
   "cell_type": "code",
   "execution_count": 4,
   "metadata": {},
   "outputs": [],
   "source": [
    "# Do-not modify this.\n",
    "# Load dataset.\n",
    "X, y = np.load(\"data/X.npy\"), np.load(\"data/y.npy\")"
   ]
  },
  {
   "cell_type": "code",
   "execution_count": 5,
   "metadata": {},
   "outputs": [],
   "source": [
    "# Part 3.A\n",
    "mlp = MLP(5, 100, 1)\n",
    "epoch_list = train(mlp, X, y, 100, 5e-6, 10)"
   ]
  },
  {
   "cell_type": "code",
   "execution_count": 6,
   "metadata": {},
   "outputs": [
    {
     "data": {
      "image/png": "[encoded data removed]",
      "text/plain": [
       "<Figure size 432x288 with 1 Axes>"
      ]
     },
     "metadata": {},
     "output_type": "display_data"
    }
   ],
   "source": [
    "x = range(len(epoch_list))\n",
    "plt.plot(x, epoch_list)\n",
    "plt.xlabel('Number of Epochs')\n",
    "plt.ylabel('MSE')\n",
    "plt.title('MLP Model I=5, H=100, O=1, lr=5e-6')\n",
    "plt.show()\n"
   ]
  },
  {
   "cell_type": "markdown",
   "metadata": {},
   "source": [
    "**Part 3.B**\n",
    "\n",
    "Modify the `train()` to `train_decay()` such that learning rate decays after a condition has been met. For example: \n",
    "1. If running loss stays with a limit for 'e' number of epochs.\n",
    "2. Or a constant weight decay after 'e' number of epochs.\n",
    "\n",
    "Plot MSE loss for **3.A and 3.B** on the same graph."
   ]
  },
  {
   "cell_type": "code",
   "execution_count": 7,
   "metadata": {},
   "outputs": [],
   "source": [
    "def train_decay(model, X, y, epochs, lr, decay, batch_size):\n",
    "    epoch_list = []\n",
    "    \n",
    "    batches = int(X.shape[0] / batch_size)\n",
    "    epoch_count = 0\n",
    "    for i in range(epochs):\n",
    "        X, y = shuffle(X, y)\n",
    "        batch_error = []\n",
    "        \n",
    "        for j in range(0, X.shape[0], batch_size):\n",
    "            y_hat = model.forward(Tensor(X[j:j+batch_size]))\n",
    "            model.zero_grad()\n",
    "            y_actual = Tensor(y[j:j+batch_size])\n",
    "            \n",
    "            error = (y_hat - y_actual).pow(2).mean()\n",
    "            batch_error.append(error.value)\n",
    "            error.backward()\n",
    "            \n",
    "            model.update(lr)\n",
    "            \n",
    "        epoch_list.append(sum(batch_error) / batches)\n",
    "        \n",
    "        # Decay condition: Every 5 epochs, if change in current error and old error <= 5 %, divide lr by decay factor\n",
    "        if (i+1) % 5 == 0:\n",
    "            if abs(epoch_list[-1] - epoch_list[-2]) / 100 <= 5:\n",
    "                lr /= decay\n",
    "        \n",
    "    return epoch_list"
   ]
  },
  {
   "cell_type": "code",
   "execution_count": 8,
   "metadata": {},
   "outputs": [],
   "source": [
    "mlp_decay = MLP(5, 100, 1)\n",
    "epoch_list_decay = train_decay(mlp_decay, X, y, 100, 5e-6, 1.25, 10)"
   ]
  },
  {
   "cell_type": "code",
   "execution_count": 9,
   "metadata": {},
   "outputs": [
    {
     "data": {
      "image/png": "[encoded data removed]",
      "text/plain": [
       "<Figure size 432x288 with 1 Axes>"
      ]
     },
     "metadata": {},
     "output_type": "display_data"
    }
   ],
   "source": [
    "plt.plot(x, epoch_list, label=\"no decay\")\n",
    "plt.plot(x, epoch_list_decay, label=\"decay = 1.25\")\n",
    "plt.xlabel('Number of Epochs')\n",
    "plt.ylabel('MSE')\n",
    "plt.title('MLP Model I=5, H=100, O=1, lr=5e-6')\n",
    "plt.legend()\n",
    "plt.show()"
   ]
  },
  {
   "cell_type": "code",
   "execution_count": null,
   "metadata": {},
   "outputs": [],
   "source": []
  }
 ],
 "metadata": {
  "kernelspec": {
   "display_name": "Python 3",
   "language": "python",
   "name": "python3"
  },
  "language_info": {
   "codemirror_mode": {
    "name": "ipython",
    "version": 3
   },
   "file_extension": ".py",
   "mimetype": "text/x-python",
   "name": "python",
   "nbconvert_exporter": "python",
   "pygments_lexer": "ipython3",
   "version": "3.6.5"
  }
 },
 "nbformat": 4,
 "nbformat_minor": 2
}
