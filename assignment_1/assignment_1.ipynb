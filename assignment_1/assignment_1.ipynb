{
 "cells": [
  {
   "cell_type": "markdown",
   "metadata": {},
   "source": [
    "# <center> Neural Networks and Deep Learning (CSCI 5922)</center>\n",
    "# <center> Spring 2019 </center>"
   ]
  },
  {
   "cell_type": "markdown",
   "metadata": {},
   "source": [
    "**Name:** Poorwa Hirve\n"
   ]
  },
  {
   "cell_type": "markdown",
   "metadata": {},
   "source": [
    "## Goal"
   ]
  },
  {
   "cell_type": "markdown",
   "metadata": {},
   "source": [
    "The goal of this assignment is to introduce neural networks in terms of ideas you are already familiar with:  linear regression and linear-threshold classification"
   ]
  },
  {
   "cell_type": "markdown",
   "metadata": {},
   "source": [
    "## Dataset"
   ]
  },
  {
   "cell_type": "markdown",
   "metadata": {},
   "source": [
    "You are given a dataset with 2 input variables ($x_1$, $x_2$) and an output variable ($y$)."
   ]
  },
  {
   "cell_type": "code",
   "execution_count": 1,
   "metadata": {},
   "outputs": [],
   "source": [
    "from sklearn.datasets import make_regression\n",
    "from matplotlib import pyplot as plt\n",
    "import numpy as np\n",
    "import os\n",
    "\n",
    "# Load data\n",
    "data = np.loadtxt(os.path.join('data', 'assign1_data.txt'))\n",
    "X = data[:,:2]\n",
    "X = np.hstack((X, np.ones((len(X),1)))) # adding the bias\n",
    "y = data[:, 2]\n",
    "z = data[:, 3]\n",
    "error_list = []\n",
    "incorrect_list = []"
   ]
  },
  {
   "cell_type": "markdown",
   "metadata": {},
   "source": [
    "## Part 1"
   ]
  },
  {
   "cell_type": "markdown",
   "metadata": {},
   "source": [
    "Write a program to find the least squares solution to $y = w_1 x_1 + w_2 x_2 + b$ for the above dataset. "
   ]
  },
  {
   "cell_type": "markdown",
   "metadata": {},
   "source": [
    "Complete the following function below and use it to answer questions (A) and (B). \n",
    "\n",
    "**Note:** Please do not change the interface of the given function."
   ]
  },
  {
   "cell_type": "code",
   "execution_count": 2,
   "metadata": {},
   "outputs": [],
   "source": [
    "def lms(X, y):\n",
    "    \"\"\"\n",
    "    Finds the Least Mean Squares solution\n",
    "    \n",
    "    Parameters\n",
    "    ----------\n",
    "    X : NumPy array of features (size : no of examples X features)\n",
    "    y : Numpy array of output value 'y' (size : no of examples X 1)\n",
    "    \n",
    "    Returns\n",
    "    -------\n",
    "    w : solution array\n",
    "    \"\"\"\n",
    "    X_t = X\n",
    "    \n",
    "    return (np.linalg.inv(X.T@X)@X.T)@y"
   ]
  },
  {
   "cell_type": "markdown",
   "metadata": {},
   "source": [
    "(A) Report the values of $w_1$, $w_2$, and $b$."
   ]
  },
  {
   "cell_type": "code",
   "execution_count": 3,
   "metadata": {},
   "outputs": [
    {
     "name": "stdout",
     "output_type": "stream",
     "text": [
      "w1 = -2.044242595137635\n",
      "w2 = 3.996860168659326\n",
      "b = -0.9242908118675917\n"
     ]
    }
   ],
   "source": [
    "w = lms(X,y)\n",
    "print (\"w1 =\", w[0])\n",
    "print (\"w2 =\", w[1])\n",
    "print (\"b =\", w[2])"
   ]
  },
  {
   "cell_type": "markdown",
   "metadata": {},
   "source": [
    "(B) What function or method did you use to find the least-squares solution?"
   ]
  },
  {
   "cell_type": "markdown",
   "metadata": {},
   "source": [
    "- I obtained the least-squares solution using the normal equation which is $ O(n^3) $:\n",
    "$$ \\textbf{w} = (X \\cdot X^T)^{-1} X^T \\cdot y $$\n"
   ]
  },
  {
   "cell_type": "markdown",
   "metadata": {},
   "source": [
    "## Part 2"
   ]
  },
  {
   "cell_type": "markdown",
   "metadata": {},
   "source": [
    "Using the LMS algorithm, write a program that determines the coefficients {w1,w2,b} via incremental updating, steepest descent, and multiple passes through the training data. You will need to experiment with updating rules (online, batch, minibatch), step sizes (i.e., learning rates), stopping criteria, etc. Experiment to find settings that lead to solutions with the fewest number of sweeps through the data."
   ]
  },
  {
   "cell_type": "markdown",
   "metadata": {},
   "source": [
    "Complete the following functions below and use them to answer questions (A), (B) and (C). You may find the shuffle function from scikit-learn useful. \n",
    "\n",
    "Use the following hyperparameters:\n",
    "\n",
    "Learning rates = [0.001, 0.05, 0.01, 0.05, 0.1, 0.3]\n",
    "\n",
    "MaxIter = [10, 50, 100, 500, 1000, 5000, 10000, 25000, 50000]\n",
    "\n",
    "**Note:** Please do not change the interface of the given functions."
   ]
  },
  {
   "cell_type": "code",
   "execution_count": 4,
   "metadata": {},
   "outputs": [],
   "source": [
    "from sklearn.utils import shuffle\n",
    "\n",
    "def calcError(X, y, w):\n",
    "    \"\"\"\n",
    "    Returns Mean Squared Error\n",
    "    \"\"\"\n",
    "    return ((np.dot(X, w) - y)**2).sum() / (2*len(y))\n",
    "\n",
    "def online_update(X, y, w, alpha): # Added alpha parameter\n",
    "    \"\"\"\n",
    "    One iteration of the online update over the entire dataset (one sweep of the dataset).\n",
    "    \n",
    "    Parameters\n",
    "    ----------\n",
    "    X : NumPy array of features (size : no of examples X features)\n",
    "    y : Numpy array of class labels (size : no of examples X 1)\n",
    "    w : array of coefficients from the previous iteration\n",
    "    \n",
    "    Returns\n",
    "    -------\n",
    "    w : Coefficients of the classifier (after updating)\n",
    "    \"\"\"\n",
    "    error = 0\n",
    "    \n",
    "    for i in range(len(y)):\n",
    "        w = w - alpha * (w.dot(X[i]) - y[i]) * X[i]\n",
    "        error += calcError(X, y, w)\n",
    "    \n",
    "    error /= len(y)\n",
    "    \n",
    "    return w, error\n",
    "    # returning error along with weights\n",
    "\n",
    "def batch_update(X, y, w, alpha): # Added alpha parameter\n",
    "    \"\"\"\n",
    "    One iteration of the batch update.\n",
    "    \n",
    "    Parameters\n",
    "    ----------\n",
    "    X : NumPy array of features (size : no of examples X features)\n",
    "    y : Numpy array of class labels (size : no of examples X 1)\n",
    "    w : array of coefficients from the previous iteration\n",
    "    \n",
    "    Returns\n",
    "    -------\n",
    "    w : Coefficients of the classifier (after updating)\n",
    "    \"\"\"\n",
    "    w = w - alpha * (1.0 / len(y)) * np.dot(X.T, np.dot(X, w) - y)\n",
    "    \n",
    "    return w, calcError(X, y, w)\n",
    "    # returning error along with weights\n",
    "\n",
    "def mini_batch_update(X, y, w, alpha, batch_size): # Added alpha and batch_size parameters\n",
    "    \"\"\"\n",
    "    One iteration of the mini-batch update over the entire dataset (one sweep of the dataset).\n",
    "    \n",
    "    Parameters\n",
    "    ----------\n",
    "    X : NumPy array of features (size : no of examples X features)\n",
    "    y : Numpy array of class labels (size : no of examples X 1)\n",
    "    w : array of coefficients from the previous iteration\n",
    "    batch_size : size of the batch for gradient update\n",
    "    \n",
    "    Returns\n",
    "    -------\n",
    "    w : Coefficients of the classifier (after updating)\n",
    "    \"\"\"\n",
    "    batch_error = 0\n",
    "    for i in range(0, len(y), batch_size):\n",
    "        if i+batch_size < len(y):\n",
    "            w, error = batch_update(X[i:i+batch_size], y[i:i+batch_size], w, alpha)\n",
    "        else:\n",
    "            w, error = batch_update(X[i:], y[i:], w, alpha)\n",
    "        batch_error += error\n",
    "    return w, batch_error / (len(y) / batch_size)\n",
    "    # returning error along with weights\n",
    "\n",
    "def lms_grad_desc(X, y, maxIter, alpha, update, *batch_size):\n",
    "    \"\"\"\n",
    "    Implements the LMS with gradient descent.\n",
    "    \n",
    "    Parameters\n",
    "    ----------\n",
    "    X : NumPy array of features (size : no of examples X features)\n",
    "    y : Numpy array of class labels (size : no of examples X 1)\n",
    "    maxIter : Maximum number of iterations allowed\n",
    "    alpha : Learning rate\n",
    "    update : update function to utilize (one of online, batch, mini-batch)\n",
    "    batch_size : number of examples in a batch (only useful when update = mini_batch_update)\n",
    "    \n",
    "    Returns\n",
    "    -------\n",
    "    w : Coefficients of the classifier (after updating)\n",
    "    \n",
    "    Note : *batch_size is an optional argument and only to be used when doing mini-batch Gradient Descent \n",
    "    \"\"\"\n",
    "    w = np.zeros_like(X[0])\n",
    "    for i in range(maxIter):\n",
    "        X, y = shuffle(X, y)\n",
    "        if update == 'online':\n",
    "            w, error = online_update(X, y, w, alpha)\n",
    "        elif update == 'batch':\n",
    "            w, error = batch_update(X, y, w, alpha)\n",
    "        elif update == 'mini-batch':\n",
    "            w, error = mini_batch_update(X, y, w, alpha, batch_size[0])\n",
    "            \n",
    "        error_list.append(error) # global list\n",
    "        \n",
    "        if i > 1 and abs(error_list[-1]-error_list[-2])/error_list[-2] < 0.001:\n",
    "            break\n",
    "            \n",
    "    return w"
   ]
  },
  {
   "cell_type": "markdown",
   "metadata": {},
   "source": [
    "(A) Report the values of $w_1$, $w_2$, and $b$. "
   ]
  },
  {
   "cell_type": "code",
   "execution_count": 5,
   "metadata": {
    "scrolled": false
   },
   "outputs": [
    {
     "name": "stdout",
     "output_type": "stream",
     "text": [
      "w1 = -2.0350446047192117\n",
      "w2 = 3.9963137951661625\n",
      "b = -0.9123255116552781\n"
     ]
    }
   ],
   "source": [
    "w = lms_grad_desc(X, y, 100, 0.1, 'online')\n",
    "print (\"w1 =\", w[0])\n",
    "print (\"w2 =\", w[1])\n",
    "print (\"b =\", w[2])"
   ]
  },
  {
   "cell_type": "code",
   "execution_count": 6,
   "metadata": {},
   "outputs": [
    {
     "name": "stdout",
     "output_type": "stream",
     "text": [
      "w1 = -1.0373658329924011\n",
      "w2 = 1.9435381868192205\n",
      "b = -0.3580234852981285\n"
     ]
    }
   ],
   "source": [
    "w = lms_grad_desc(X, y, 100, 0.1, 'batch')\n",
    "print (\"w1 =\", w[0])\n",
    "print (\"w2 =\", w[1])\n",
    "print (\"b =\", w[2])"
   ]
  },
  {
   "cell_type": "code",
   "execution_count": 7,
   "metadata": {
    "scrolled": true
   },
   "outputs": [
    {
     "name": "stdout",
     "output_type": "stream",
     "text": [
      "w1 = -1.9861571710238588\n",
      "w2 = 3.840363201594782\n",
      "b = -0.8638881344759095\n"
     ]
    }
   ],
   "source": [
    "w = lms_grad_desc(X, y, 100, 0.1, 'mini-batch', 10)\n",
    "print (\"w1 =\", w[0])\n",
    "print (\"w2 =\", w[1])\n",
    "print (\"b =\", w[2])"
   ]
  },
  {
   "cell_type": "code",
   "execution_count": 8,
   "metadata": {
    "scrolled": false
   },
   "outputs": [
    {
     "name": "stdout",
     "output_type": "stream",
     "text": [
      "ONLINE\n",
      "alpha = 0.001 maxIter = 10 , No. of epochs = 10 , Error = 0.6346838892948637\n",
      "alpha = 0.001 maxIter = 50 , No. of epochs = 50 , Error = 0.3803953769010201\n",
      "alpha = 0.001 maxIter = 100 , No. of epochs = 100 , Error = 0.20514521631347218\n",
      "alpha = 0.001 maxIter = 500 , No. of epochs = 441 , Error = 0.02176656900227115\n",
      "alpha = 0.001 maxIter = 1000 , No. of epochs = 438 , Error = 0.02185065915425529\n",
      "alpha = 0.001 maxIter = 5000 , No. of epochs = 452 , Error = 0.02148600598404869\n",
      "alpha = 0.001 maxIter = 10000 , No. of epochs = 443 , Error = 0.021717851128771448\n",
      "alpha = 0.001 maxIter = 25000 , No. of epochs = 439 , Error = 0.021823950083127458\n",
      "alpha = 0.001 maxIter = 50000 , No. of epochs = 442 , Error = 0.02174147840662846\n",
      "\n",
      "alpha = 0.05 maxIter = 10 , No. of epochs = 10 , Error = 0.02100690020401419\n",
      "alpha = 0.05 maxIter = 50 , No. of epochs = 25 , Error = 0.019974231718153965\n",
      "alpha = 0.05 maxIter = 100 , No. of epochs = 14 , Error = 0.02024789782584603\n",
      "alpha = 0.05 maxIter = 500 , No. of epochs = 53 , Error = 0.020049598189163326\n",
      "alpha = 0.05 maxIter = 1000 , No. of epochs = 35 , Error = 0.02022674157385584\n",
      "alpha = 0.05 maxIter = 5000 , No. of epochs = 24 , Error = 0.020302461168807236\n",
      "alpha = 0.05 maxIter = 10000 , No. of epochs = 14 , Error = 0.020183026545231714\n",
      "alpha = 0.05 maxIter = 25000 , No. of epochs = 15 , Error = 0.02035110634423463\n",
      "alpha = 0.05 maxIter = 50000 , No. of epochs = 14 , Error = 0.02053962975384398\n",
      "\n",
      "alpha = 0.01 maxIter = 10 , No. of epochs = 10 , Error = 0.21566475185937184\n",
      "alpha = 0.01 maxIter = 50 , No. of epochs = 50 , Error = 0.020728766953654967\n",
      "alpha = 0.01 maxIter = 100 , No. of epochs = 64 , Error = 0.019898778825317\n",
      "alpha = 0.01 maxIter = 500 , No. of epochs = 57 , Error = 0.0201757571173825\n",
      "alpha = 0.01 maxIter = 1000 , No. of epochs = 65 , Error = 0.019859279394556544\n",
      "alpha = 0.01 maxIter = 5000 , No. of epochs = 57 , Error = 0.02015056656957194\n",
      "alpha = 0.01 maxIter = 10000 , No. of epochs = 56 , Error = 0.02022262485838443\n",
      "alpha = 0.01 maxIter = 25000 , No. of epochs = 53 , Error = 0.020438202494764926\n",
      "alpha = 0.01 maxIter = 50000 , No. of epochs = 65 , Error = 0.01988398505371649\n",
      "\n",
      "alpha = 0.05 maxIter = 10 , No. of epochs = 10 , Error = 0.02176019564632841\n",
      "alpha = 0.05 maxIter = 50 , No. of epochs = 24 , Error = 0.0202707590930617\n",
      "alpha = 0.05 maxIter = 100 , No. of epochs = 26 , Error = 0.01995994770582783\n",
      "alpha = 0.05 maxIter = 500 , No. of epochs = 28 , Error = 0.020094123880378296\n",
      "alpha = 0.05 maxIter = 1000 , No. of epochs = 12 , Error = 0.020802678168594588\n",
      "alpha = 0.05 maxIter = 5000 , No. of epochs = 19 , Error = 0.020145750825509765\n",
      "alpha = 0.05 maxIter = 10000 , No. of epochs = 41 , Error = 0.02009748535505424\n",
      "alpha = 0.05 maxIter = 25000 , No. of epochs = 29 , Error = 0.020217131662347024\n",
      "alpha = 0.05 maxIter = 50000 , No. of epochs = 62 , Error = 0.020277396712068872\n",
      "\n",
      "alpha = 0.1 maxIter = 10 , No. of epochs = 10 , Error = 0.02060897146452309\n",
      "alpha = 0.1 maxIter = 50 , No. of epochs = 25 , Error = 0.02144007511288214\n",
      "alpha = 0.1 maxIter = 100 , No. of epochs = 28 , Error = 0.02148505500097177\n",
      "alpha = 0.1 maxIter = 500 , No. of epochs = 57 , Error = 0.021093524556242704\n",
      "alpha = 0.1 maxIter = 1000 , No. of epochs = 36 , Error = 0.021087133959948517\n",
      "alpha = 0.1 maxIter = 5000 , No. of epochs = 36 , Error = 0.021327213275047784\n",
      "alpha = 0.1 maxIter = 10000 , No. of epochs = 47 , Error = 0.0208571899487431\n",
      "alpha = 0.1 maxIter = 25000 , No. of epochs = 6 , Error = 0.022061781652979597\n",
      "alpha = 0.1 maxIter = 50000 , No. of epochs = 115 , Error = 0.021173653986537363\n",
      "\n",
      "alpha = 0.3 maxIter = 10 , No. of epochs = 10 , Error = 0.0249887173845587\n",
      "alpha = 0.3 maxIter = 50 , No. of epochs = 17 , Error = 0.02632697594067899\n",
      "alpha = 0.3 maxIter = 100 , No. of epochs = 6 , Error = 0.026516678634615057\n",
      "alpha = 0.3 maxIter = 500 , No. of epochs = 37 , Error = 0.025827434648952124\n",
      "alpha = 0.3 maxIter = 1000 , No. of epochs = 34 , Error = 0.025500611412215535\n",
      "alpha = 0.3 maxIter = 5000 , No. of epochs = 28 , Error = 0.025582955884415757\n",
      "alpha = 0.3 maxIter = 10000 , No. of epochs = 6 , Error = 0.025511722180735656\n",
      "alpha = 0.3 maxIter = 25000 , No. of epochs = 163 , Error = 0.02507880511546445\n",
      "alpha = 0.3 maxIter = 50000 , No. of epochs = 65 , Error = 0.025294201624694302\n",
      "\n",
      "\n",
      "BATCH\n",
      "alpha = 0.001 maxIter = 10 , No. of epochs = 3 , Error = 0.7259237541774795\n",
      "alpha = 0.001 maxIter = 50 , No. of epochs = 3 , Error = 0.7259237541774791\n",
      "alpha = 0.001 maxIter = 100 , No. of epochs = 3 , Error = 0.7259237541774795\n",
      "alpha = 0.001 maxIter = 500 , No. of epochs = 3 , Error = 0.7259237541774793\n",
      "alpha = 0.001 maxIter = 1000 , No. of epochs = 3 , Error = 0.7259237541774795\n",
      "alpha = 0.001 maxIter = 5000 , No. of epochs = 3 , Error = 0.7259237541774795\n",
      "alpha = 0.001 maxIter = 10000 , No. of epochs = 3 , Error = 0.7259237541774795\n",
      "alpha = 0.001 maxIter = 25000 , No. of epochs = 3 , Error = 0.7259237541774795\n",
      "alpha = 0.001 maxIter = 50000 , No. of epochs = 3 , Error = 0.7259237541774795\n",
      "\n",
      "alpha = 0.05 maxIter = 10 , No. of epochs = 10 , Error = 0.6740282994940245\n",
      "alpha = 0.05 maxIter = 50 , No. of epochs = 50 , Error = 0.5192763944016755\n",
      "alpha = 0.05 maxIter = 100 , No. of epochs = 100 , Error = 0.3777368449885639\n",
      "alpha = 0.05 maxIter = 500 , No. of epochs = 500 , Error = 0.04489905303927804\n",
      "alpha = 0.05 maxIter = 1000 , No. of epochs = 799 , Error = 0.023215856734015886\n",
      "alpha = 0.05 maxIter = 5000 , No. of epochs = 799 , Error = 0.02321585673401589\n",
      "alpha = 0.05 maxIter = 10000 , No. of epochs = 799 , Error = 0.02321585673401589\n",
      "alpha = 0.05 maxIter = 25000 , No. of epochs = 799 , Error = 0.02321585673401589\n",
      "alpha = 0.05 maxIter = 50000 , No. of epochs = 799 , Error = 0.02321585673401589\n",
      "\n",
      "alpha = 0.01 maxIter = 10 , No. of epochs = 10 , Error = 0.7146877140036392\n",
      "alpha = 0.01 maxIter = 50 , No. of epochs = 50 , Error = 0.6741810330512387\n",
      "alpha = 0.01 maxIter = 100 , No. of epochs = 100 , Error = 0.6304914896842102\n",
      "alpha = 0.01 maxIter = 500 , No. of epochs = 500 , Error = 0.3780551852601933\n",
      "alpha = 0.01 maxIter = 1000 , No. of epochs = 1000 , Error = 0.2040943269217948\n",
      "alpha = 0.01 maxIter = 5000 , No. of epochs = 1835 , Error = 0.080657771617658\n",
      "alpha = 0.01 maxIter = 10000 , No. of epochs = 1835 , Error = 0.080657771617658\n",
      "alpha = 0.01 maxIter = 25000 , No. of epochs = 1835 , Error = 0.08065777161765798\n",
      "alpha = 0.01 maxIter = 50000 , No. of epochs = 1835 , Error = 0.080657771617658\n",
      "\n",
      "alpha = 0.05 maxIter = 10 , No. of epochs = 10 , Error = 0.6740282994940248\n",
      "alpha = 0.05 maxIter = 50 , No. of epochs = 50 , Error = 0.5192763944016755\n",
      "alpha = 0.05 maxIter = 100 , No. of epochs = 100 , Error = 0.3777368449885639\n",
      "alpha = 0.05 maxIter = 500 , No. of epochs = 500 , Error = 0.04489905303927802\n",
      "alpha = 0.05 maxIter = 1000 , No. of epochs = 799 , Error = 0.023215856734015886\n",
      "alpha = 0.05 maxIter = 5000 , No. of epochs = 799 , Error = 0.023215856734015893\n",
      "alpha = 0.05 maxIter = 10000 , No. of epochs = 799 , Error = 0.023215856734015886\n",
      "alpha = 0.05 maxIter = 25000 , No. of epochs = 799 , Error = 0.02321585673401588\n",
      "alpha = 0.05 maxIter = 50000 , No. of epochs = 799 , Error = 0.02321585673401589\n",
      "\n",
      "alpha = 0.1 maxIter = 10 , No. of epochs = 10 , Error = 0.6301506312837603\n",
      "alpha = 0.1 maxIter = 50 , No. of epochs = 50 , Error = 0.3773377203311468\n",
      "alpha = 0.1 maxIter = 100 , No. of epochs = 100 , Error = 0.20335932962702036\n",
      "alpha = 0.1 maxIter = 500 , No. of epochs = 458 , Error = 0.021317579015313493\n",
      "alpha = 0.1 maxIter = 1000 , No. of epochs = 458 , Error = 0.02131757901531349\n",
      "alpha = 0.1 maxIter = 5000 , No. of epochs = 458 , Error = 0.021317579015313493\n",
      "alpha = 0.1 maxIter = 10000 , No. of epochs = 458 , Error = 0.02131757901531349\n",
      "alpha = 0.1 maxIter = 25000 , No. of epochs = 458 , Error = 0.021317579015313504\n",
      "alpha = 0.1 maxIter = 50000 , No. of epochs = 458 , Error = 0.0213175790153135\n",
      "\n",
      "alpha = 0.3 maxIter = 10 , No. of epochs = 10 , Error = 0.4854845156959676\n",
      "alpha = 0.3 maxIter = 50 , No. of epochs = 50 , Error = 0.11287142704362535\n",
      "alpha = 0.3 maxIter = 100 , No. of epochs = 100 , Error = 0.03229741107371976\n",
      "alpha = 0.3 maxIter = 500 , No. of epochs = 182 , Error = 0.020189813832299612\n",
      "alpha = 0.3 maxIter = 1000 , No. of epochs = 182 , Error = 0.020189813832299612\n",
      "alpha = 0.3 maxIter = 5000 , No. of epochs = 182 , Error = 0.020189813832299612\n",
      "alpha = 0.3 maxIter = 10000 , No. of epochs = 182 , Error = 0.020189813832299616\n",
      "alpha = 0.3 maxIter = 25000 , No. of epochs = 182 , Error = 0.02018981383229961\n",
      "alpha = 0.3 maxIter = 50000 , No. of epochs = 182 , Error = 0.020189813832299616\n",
      "\n",
      "\n",
      "MINI-BATCH\n",
      "alpha = 0.001 maxIter = 10 , Batch size = 5 , No. of epochs = 10 , Error = 0.7047402825990197\n",
      "alpha = 0.001 maxIter = 10 , Batch size = 10 , No. of epochs = 10 , Error = 0.7150826089082251\n",
      "alpha = 0.001 maxIter = 10 , Batch size = 20 , No. of epochs = 3 , Error = 0.724719231330123\n",
      "alpha = 0.001 maxIter = 10 , Batch size = 25 , No. of epochs = 3 , Error = 0.7249898883862813\n",
      "alpha = 0.001 maxIter = 10 , Batch size = 50 , No. of epochs = 3 , Error = 0.7256228199119494\n",
      "\n",
      "alpha = 0.001 maxIter = 50 , Batch size = 5 , No. of epochs = 50 , Error = 0.6311105213878427\n",
      "alpha = 0.001 maxIter = 50 , Batch size = 10 , No. of epochs = 50 , Error = 0.6745813600395896\n",
      "alpha = 0.001 maxIter = 50 , Batch size = 20 , No. of epochs = 3 , Error = 0.7246993254499807\n",
      "alpha = 0.001 maxIter = 50 , Batch size = 25 , No. of epochs = 3 , Error = 0.7249826424559727\n",
      "alpha = 0.001 maxIter = 50 , Batch size = 50 , No. of epochs = 3 , Error = 0.725566369765891\n",
      "\n"
     ]
    },
    {
     "name": "stdout",
     "output_type": "stream",
     "text": [
      "alpha = 0.001 maxIter = 100 , Batch size = 5 , No. of epochs = 100 , Error = 0.5544535463196045\n",
      "alpha = 0.001 maxIter = 100 , Batch size = 10 , No. of epochs = 100 , Error = 0.6308338526967309\n",
      "alpha = 0.001 maxIter = 100 , Batch size = 20 , No. of epochs = 3 , Error = 0.7246547640896712\n",
      "alpha = 0.001 maxIter = 100 , Batch size = 25 , No. of epochs = 3 , Error = 0.7250038696353615\n",
      "alpha = 0.001 maxIter = 100 , Batch size = 50 , No. of epochs = 3 , Error = 0.7256158839668715\n",
      "\n",
      "alpha = 0.001 maxIter = 500 , Batch size = 5 , No. of epochs = 500 , Error = 0.20430364335003848\n",
      "alpha = 0.001 maxIter = 500 , Batch size = 10 , No. of epochs = 500 , Error = 0.37823974488492573\n",
      "alpha = 0.001 maxIter = 500 , Batch size = 20 , No. of epochs = 3 , Error = 0.7247119192460106\n",
      "alpha = 0.001 maxIter = 500 , Batch size = 25 , No. of epochs = 3 , Error = 0.7249957695115137\n",
      "alpha = 0.001 maxIter = 500 , Batch size = 50 , No. of epochs = 3 , Error = 0.7256035331385631\n",
      "\n",
      "alpha = 0.001 maxIter = 1000 , Batch size = 5 , No. of epochs = 1000 , Error = 0.06875825105268565\n",
      "alpha = 0.001 maxIter = 1000 , Batch size = 10 , No. of epochs = 896 , Error = 0.23155859912353982\n",
      "alpha = 0.001 maxIter = 1000 , Batch size = 20 , No. of epochs = 3 , Error = 0.7247183813214952\n",
      "alpha = 0.001 maxIter = 1000 , Batch size = 25 , No. of epochs = 3 , Error = 0.7250120940683351\n",
      "alpha = 0.001 maxIter = 1000 , Batch size = 50 , No. of epochs = 3 , Error = 0.7256141825224645\n",
      "\n",
      "alpha = 0.001 maxIter = 5000 , Batch size = 5 , No. of epochs = 1394 , Error = 0.03703325608842883\n",
      "alpha = 0.001 maxIter = 5000 , Batch size = 10 , No. of epochs = 593 , Error = 0.3365945231418512\n",
      "alpha = 0.001 maxIter = 5000 , Batch size = 20 , No. of epochs = 3 , Error = 0.7247158698307506\n",
      "alpha = 0.001 maxIter = 5000 , Batch size = 25 , No. of epochs = 3 , Error = 0.7250152831192553\n",
      "alpha = 0.001 maxIter = 5000 , Batch size = 50 , No. of epochs = 3 , Error = 0.7256244119314814\n",
      "\n",
      "alpha = 0.001 maxIter = 10000 , Batch size = 5 , No. of epochs = 1438 , Error = 0.03513292235778522\n",
      "alpha = 0.001 maxIter = 10000 , Batch size = 10 , No. of epochs = 308 , Error = 0.48262705779040094\n",
      "alpha = 0.001 maxIter = 10000 , Batch size = 20 , No. of epochs = 3 , Error = 0.7246755022034636\n",
      "alpha = 0.001 maxIter = 10000 , Batch size = 25 , No. of epochs = 3 , Error = 0.7249988646795515\n",
      "alpha = 0.001 maxIter = 10000 , Batch size = 50 , No. of epochs = 3 , Error = 0.7256092186426835\n",
      "\n",
      "alpha = 0.001 maxIter = 25000 , Batch size = 5 , No. of epochs = 1317 , Error = 0.0409397141016397\n",
      "alpha = 0.001 maxIter = 25000 , Batch size = 10 , No. of epochs = 215 , Error = 0.5436536017500229\n",
      "alpha = 0.001 maxIter = 25000 , Batch size = 20 , No. of epochs = 3 , Error = 0.7247183301215705\n",
      "alpha = 0.001 maxIter = 25000 , Batch size = 25 , No. of epochs = 3 , Error = 0.725014049338154\n",
      "alpha = 0.001 maxIter = 25000 , Batch size = 50 , No. of epochs = 3 , Error = 0.7255886691068546\n",
      "\n",
      "alpha = 0.001 maxIter = 50000 , Batch size = 5 , No. of epochs = 1379 , Error = 0.03773268095488567\n",
      "alpha = 0.001 maxIter = 50000 , Batch size = 10 , No. of epochs = 985 , Error = 0.2079595413672876\n",
      "alpha = 0.001 maxIter = 50000 , Batch size = 20 , No. of epochs = 3 , Error = 0.7247036208382721\n",
      "alpha = 0.001 maxIter = 50000 , Batch size = 25 , No. of epochs = 3 , Error = 0.724996172172115\n",
      "alpha = 0.001 maxIter = 50000 , Batch size = 50 , No. of epochs = 3 , Error = 0.7256219237214795\n",
      "\n",
      "\n",
      "alpha = 0.05 maxIter = 10 , Batch size = 5 , No. of epochs = 10 , Error = 0.21024554493209405\n",
      "alpha = 0.05 maxIter = 10 , Batch size = 10 , No. of epochs = 10 , Error = 0.3843748240932772\n",
      "alpha = 0.05 maxIter = 10 , Batch size = 20 , No. of epochs = 10 , Error = 0.5227668308424758\n",
      "alpha = 0.05 maxIter = 10 , Batch size = 25 , No. of epochs = 10 , Error = 0.5560721886917228\n",
      "alpha = 0.05 maxIter = 10 , Batch size = 50 , No. of epochs = 10 , Error = 0.6323766462099389\n",
      "\n",
      "alpha = 0.05 maxIter = 50 , Batch size = 5 , No. of epochs = 50 , Error = 0.0202631242681702\n",
      "alpha = 0.05 maxIter = 50 , Batch size = 10 , No. of epochs = 50 , Error = 0.04519360916800043\n",
      "alpha = 0.05 maxIter = 50 , Batch size = 20 , No. of epochs = 50 , Error = 0.15181440643505426\n",
      "alpha = 0.05 maxIter = 50 , Batch size = 25 , No. of epochs = 50 , Error = 0.20525766201654258\n",
      "alpha = 0.05 maxIter = 50 , Batch size = 50 , No. of epochs = 50 , Error = 0.3784816372895747\n",
      "\n",
      "alpha = 0.05 maxIter = 100 , Batch size = 5 , No. of epochs = 62 , Error = 0.01961065116394761\n",
      "alpha = 0.05 maxIter = 100 , Batch size = 10 , No. of epochs = 97 , Error = 0.020676025105045095\n",
      "alpha = 0.05 maxIter = 100 , Batch size = 20 , No. of epochs = 100 , Error = 0.04484869387429462\n",
      "alpha = 0.05 maxIter = 100 , Batch size = 25 , No. of epochs = 100 , Error = 0.0685300615371233\n",
      "alpha = 0.05 maxIter = 100 , Batch size = 50 , No. of epochs = 100 , Error = 0.20420584961041857\n",
      "\n",
      "alpha = 0.05 maxIter = 500 , Batch size = 5 , No. of epochs = 45 , Error = 0.0213001662872166\n",
      "alpha = 0.05 maxIter = 500 , Batch size = 10 , No. of epochs = 93 , Error = 0.02112542407262084\n",
      "alpha = 0.05 maxIter = 500 , Batch size = 20 , No. of epochs = 170 , Error = 0.02218992168838625\n",
      "alpha = 0.05 maxIter = 500 , Batch size = 25 , No. of epochs = 179 , Error = 0.025708975665920137\n",
      "alpha = 0.05 maxIter = 500 , Batch size = 50 , No. of epochs = 370 , Error = 0.02488396017535758\n",
      "\n",
      "alpha = 0.05 maxIter = 1000 , Batch size = 5 , No. of epochs = 62 , Error = 0.01963410110890946\n",
      "alpha = 0.05 maxIter = 1000 , Batch size = 10 , No. of epochs = 93 , Error = 0.021057756715599143\n",
      "alpha = 0.05 maxIter = 1000 , Batch size = 20 , No. of epochs = 168 , Error = 0.022341692476065742\n",
      "alpha = 0.05 maxIter = 1000 , Batch size = 25 , No. of epochs = 194 , Error = 0.023758975694943285\n",
      "alpha = 0.05 maxIter = 1000 , Batch size = 50 , No. of epochs = 350 , Error = 0.026441368015043806\n",
      "\n",
      "alpha = 0.05 maxIter = 5000 , Batch size = 5 , No. of epochs = 54 , Error = 0.019941177180263864\n",
      "alpha = 0.05 maxIter = 5000 , Batch size = 10 , No. of epochs = 98 , Error = 0.020716716659885174\n",
      "alpha = 0.05 maxIter = 5000 , Batch size = 20 , No. of epochs = 171 , Error = 0.022107210438404395\n",
      "alpha = 0.05 maxIter = 5000 , Batch size = 25 , No. of epochs = 210 , Error = 0.022327717232335426\n",
      "alpha = 0.05 maxIter = 5000 , Batch size = 50 , No. of epochs = 292 , Error = 0.03419453045839004\n",
      "\n",
      "alpha = 0.05 maxIter = 10000 , Batch size = 5 , No. of epochs = 44 , Error = 0.02160328337469942\n",
      "alpha = 0.05 maxIter = 10000 , Batch size = 10 , No. of epochs = 86 , Error = 0.02194537843644086\n",
      "alpha = 0.05 maxIter = 10000 , Batch size = 20 , No. of epochs = 145 , Error = 0.025354032373939107\n",
      "alpha = 0.05 maxIter = 10000 , Batch size = 25 , No. of epochs = 185 , Error = 0.024866026628717532\n",
      "alpha = 0.05 maxIter = 10000 , Batch size = 50 , No. of epochs = 318 , Error = 0.029978758658053745\n",
      "\n",
      "alpha = 0.05 maxIter = 25000 , Batch size = 5 , No. of epochs = 56 , Error = 0.0198137239192983\n",
      "alpha = 0.05 maxIter = 25000 , Batch size = 10 , No. of epochs = 98 , Error = 0.020653016158921768\n",
      "alpha = 0.05 maxIter = 25000 , Batch size = 20 , No. of epochs = 153 , Error = 0.024093931347898116\n",
      "alpha = 0.05 maxIter = 25000 , Batch size = 25 , No. of epochs = 171 , Error = 0.02719724661263678\n",
      "alpha = 0.05 maxIter = 25000 , Batch size = 50 , No. of epochs = 309 , Error = 0.03128313502977784\n",
      "\n",
      "alpha = 0.05 maxIter = 50000 , Batch size = 5 , No. of epochs = 71 , Error = 0.019413761163680796\n",
      "alpha = 0.05 maxIter = 50000 , Batch size = 10 , No. of epochs = 94 , Error = 0.020954884903935184\n",
      "alpha = 0.05 maxIter = 50000 , Batch size = 20 , No. of epochs = 167 , Error = 0.02246260803524473\n",
      "alpha = 0.05 maxIter = 50000 , Batch size = 25 , No. of epochs = 191 , Error = 0.024087327608351975\n",
      "alpha = 0.05 maxIter = 50000 , Batch size = 50 , No. of epochs = 382 , Error = 0.024114256111227663\n",
      "\n",
      "\n",
      "alpha = 0.01 maxIter = 10 , Batch size = 5 , No. of epochs = 10 , Error = 0.5586990720123948\n",
      "alpha = 0.01 maxIter = 10 , Batch size = 10 , No. of epochs = 10 , Error = 0.633313172614205\n",
      "alpha = 0.01 maxIter = 10 , Batch size = 20 , No. of epochs = 10 , Error = 0.6756241343463806\n",
      "alpha = 0.01 maxIter = 10 , Batch size = 25 , No. of epochs = 10 , Error = 0.6845882353439717\n",
      "alpha = 0.01 maxIter = 10 , Batch size = 50 , No. of epochs = 10 , Error = 0.7042999254296045\n",
      "\n",
      "alpha = 0.01 maxIter = 50 , Batch size = 5 , No. of epochs = 50 , Error = 0.20544628024622097\n",
      "alpha = 0.01 maxIter = 50 , Batch size = 10 , No. of epochs = 50 , Error = 0.37920630491218843\n",
      "alpha = 0.01 maxIter = 50 , Batch size = 20 , No. of epochs = 50 , Error = 0.5204541607485703\n",
      "alpha = 0.01 maxIter = 50 , Batch size = 25 , No. of epochs = 50 , Error = 0.554491119842569\n",
      "alpha = 0.01 maxIter = 50 , Batch size = 50 , No. of epochs = 50 , Error = 0.6308763848146575\n",
      "\n"
     ]
    },
    {
     "name": "stdout",
     "output_type": "stream",
     "text": [
      "alpha = 0.01 maxIter = 100 , Batch size = 5 , No. of epochs = 100 , Error = 0.06889591420015309\n",
      "alpha = 0.01 maxIter = 100 , Batch size = 10 , No. of epochs = 100 , Error = 0.2048948793401612\n",
      "alpha = 0.01 maxIter = 100 , Batch size = 20 , No. of epochs = 100 , Error = 0.37835624415951163\n",
      "alpha = 0.01 maxIter = 100 , Batch size = 25 , No. of epochs = 100 , Error = 0.42971233022641675\n",
      "alpha = 0.01 maxIter = 100 , Batch size = 50 , No. of epochs = 100 , Error = 0.5542161554745173\n",
      "\n",
      "alpha = 0.01 maxIter = 500 , Batch size = 5 , No. of epochs = 216 , Error = 0.021985327205897597\n",
      "alpha = 0.01 maxIter = 500 , Batch size = 10 , No. of epochs = 379 , Error = 0.024303915045570217\n",
      "alpha = 0.01 maxIter = 500 , Batch size = 20 , No. of epochs = 500 , Error = 0.04503343139589584\n",
      "alpha = 0.01 maxIter = 500 , Batch size = 25 , No. of epochs = 500 , Error = 0.06875497915488361\n",
      "alpha = 0.01 maxIter = 500 , Batch size = 50 , No. of epochs = 365 , Error = 0.28375392610870986\n",
      "\n",
      "alpha = 0.01 maxIter = 1000 , Batch size = 5 , No. of epochs = 218 , Error = 0.021859294033372008\n",
      "alpha = 0.01 maxIter = 1000 , Batch size = 10 , No. of epochs = 386 , Error = 0.023912060337766543\n",
      "alpha = 0.01 maxIter = 1000 , Batch size = 20 , No. of epochs = 581 , Error = 0.03454510828402153\n",
      "alpha = 0.01 maxIter = 1000 , Batch size = 25 , No. of epochs = 793 , Error = 0.030133935143695827\n",
      "alpha = 0.01 maxIter = 1000 , Batch size = 50 , No. of epochs = 526 , Error = 0.19188394072728637\n",
      "\n",
      "alpha = 0.01 maxIter = 5000 , Batch size = 5 , No. of epochs = 226 , Error = 0.021433436322954934\n",
      "alpha = 0.01 maxIter = 5000 , Batch size = 10 , No. of epochs = 391 , Error = 0.023652977217550643\n",
      "alpha = 0.01 maxIter = 5000 , Batch size = 20 , No. of epochs = 660 , Error = 0.028526246317288985\n",
      "alpha = 0.01 maxIter = 5000 , Batch size = 25 , No. of epochs = 601 , Error = 0.0484572507664943\n",
      "alpha = 0.01 maxIter = 5000 , Batch size = 50 , No. of epochs = 881 , Error = 0.08686337706278946\n",
      "\n",
      "alpha = 0.01 maxIter = 10000 , Batch size = 5 , No. of epochs = 218 , Error = 0.021871761134611437\n",
      "alpha = 0.01 maxIter = 10000 , Batch size = 10 , No. of epochs = 374 , Error = 0.024649718444344108\n",
      "alpha = 0.01 maxIter = 10000 , Batch size = 20 , No. of epochs = 584 , Error = 0.03425951524056881\n",
      "alpha = 0.01 maxIter = 10000 , Batch size = 25 , No. of epochs = 752 , Error = 0.03265510908879495\n",
      "alpha = 0.01 maxIter = 10000 , Batch size = 50 , No. of epochs = 615 , Error = 0.15565095083339595\n",
      "\n",
      "alpha = 0.01 maxIter = 25000 , Batch size = 5 , No. of epochs = 209 , Error = 0.022455989716638848\n",
      "alpha = 0.01 maxIter = 25000 , Batch size = 10 , No. of epochs = 352 , Error = 0.026301926043315226\n",
      "alpha = 0.01 maxIter = 25000 , Batch size = 20 , No. of epochs = 648 , Error = 0.02924810473709194\n",
      "alpha = 0.01 maxIter = 25000 , Batch size = 25 , No. of epochs = 730 , Error = 0.03425429622617215\n",
      "alpha = 0.01 maxIter = 25000 , Batch size = 50 , No. of epochs = 892 , Error = 0.08494394681652465\n",
      "\n",
      "alpha = 0.01 maxIter = 50000 , Batch size = 5 , No. of epochs = 232 , Error = 0.02116578499760322\n",
      "alpha = 0.01 maxIter = 50000 , Batch size = 10 , No. of epochs = 383 , Error = 0.024081119056238713\n",
      "alpha = 0.01 maxIter = 50000 , Batch size = 20 , No. of epochs = 604 , Error = 0.03246046095273513\n",
      "alpha = 0.01 maxIter = 50000 , Batch size = 25 , No. of epochs = 792 , Error = 0.030199151149783672\n",
      "alpha = 0.01 maxIter = 50000 , Batch size = 50 , No. of epochs = 307 , Error = 0.3277965534189696\n",
      "\n",
      "\n",
      "alpha = 0.05 maxIter = 10 , Batch size = 5 , No. of epochs = 10 , Error = 0.2112100614534266\n",
      "alpha = 0.05 maxIter = 10 , Batch size = 10 , No. of epochs = 10 , Error = 0.38667613184157784\n",
      "alpha = 0.05 maxIter = 10 , Batch size = 20 , No. of epochs = 10 , Error = 0.5218097447575192\n",
      "alpha = 0.05 maxIter = 10 , Batch size = 25 , No. of epochs = 10 , Error = 0.5575072440591472\n",
      "alpha = 0.05 maxIter = 10 , Batch size = 50 , No. of epochs = 10 , Error = 0.6322741420346807\n",
      "\n",
      "alpha = 0.05 maxIter = 50 , Batch size = 5 , No. of epochs = 49 , Error = 0.020466115450091284\n",
      "alpha = 0.05 maxIter = 50 , Batch size = 10 , No. of epochs = 50 , Error = 0.04500603292529646\n",
      "alpha = 0.05 maxIter = 50 , Batch size = 20 , No. of epochs = 50 , Error = 0.1522707905124669\n",
      "alpha = 0.05 maxIter = 50 , Batch size = 25 , No. of epochs = 50 , Error = 0.20504116267115133\n",
      "alpha = 0.05 maxIter = 50 , Batch size = 50 , No. of epochs = 50 , Error = 0.3787085702179227\n",
      "\n",
      "alpha = 0.05 maxIter = 100 , Batch size = 5 , No. of epochs = 59 , Error = 0.0197632235593855\n",
      "alpha = 0.05 maxIter = 100 , Batch size = 10 , No. of epochs = 87 , Error = 0.0218377918014328\n",
      "alpha = 0.05 maxIter = 100 , Batch size = 20 , No. of epochs = 100 , Error = 0.04506608206951533\n",
      "alpha = 0.05 maxIter = 100 , Batch size = 25 , No. of epochs = 100 , Error = 0.06877274650658283\n",
      "alpha = 0.05 maxIter = 100 , Batch size = 50 , No. of epochs = 100 , Error = 0.2042534784920497\n",
      "\n",
      "alpha = 0.05 maxIter = 500 , Batch size = 5 , No. of epochs = 67 , Error = 0.019469738687446683\n",
      "alpha = 0.05 maxIter = 500 , Batch size = 10 , No. of epochs = 93 , Error = 0.021137662733575945\n",
      "alpha = 0.05 maxIter = 500 , Batch size = 20 , No. of epochs = 150 , Error = 0.024539304842173957\n",
      "alpha = 0.05 maxIter = 500 , Batch size = 25 , No. of epochs = 202 , Error = 0.02292880643102713\n",
      "alpha = 0.05 maxIter = 500 , Batch size = 50 , No. of epochs = 345 , Error = 0.026889401325315514\n",
      "\n",
      "alpha = 0.05 maxIter = 1000 , Batch size = 5 , No. of epochs = 68 , Error = 0.01942522118104214\n",
      "alpha = 0.05 maxIter = 1000 , Batch size = 10 , No. of epochs = 89 , Error = 0.021572932586048484\n",
      "alpha = 0.05 maxIter = 1000 , Batch size = 20 , No. of epochs = 169 , Error = 0.022292669003933733\n",
      "alpha = 0.05 maxIter = 1000 , Batch size = 25 , No. of epochs = 194 , Error = 0.023784624265208252\n",
      "alpha = 0.05 maxIter = 1000 , Batch size = 50 , No. of epochs = 317 , Error = 0.03012152896796927\n",
      "\n",
      "alpha = 0.05 maxIter = 5000 , Batch size = 5 , No. of epochs = 52 , Error = 0.0201586545030951\n",
      "alpha = 0.05 maxIter = 5000 , Batch size = 10 , No. of epochs = 92 , Error = 0.021211028463283592\n",
      "alpha = 0.05 maxIter = 5000 , Batch size = 20 , No. of epochs = 160 , Error = 0.023185782747347346\n",
      "alpha = 0.05 maxIter = 5000 , Batch size = 25 , No. of epochs = 189 , Error = 0.024336308932514976\n",
      "alpha = 0.05 maxIter = 5000 , Batch size = 50 , No. of epochs = 317 , Error = 0.03010876864305287\n",
      "\n",
      "alpha = 0.05 maxIter = 10000 , Batch size = 5 , No. of epochs = 84 , Error = 0.019310232892004793\n",
      "alpha = 0.05 maxIter = 10000 , Batch size = 10 , No. of epochs = 84 , Error = 0.02220684538527685\n",
      "alpha = 0.05 maxIter = 10000 , Batch size = 20 , No. of epochs = 169 , Error = 0.022279890008210023\n",
      "alpha = 0.05 maxIter = 10000 , Batch size = 25 , No. of epochs = 188 , Error = 0.024478273951165544\n",
      "alpha = 0.05 maxIter = 10000 , Batch size = 50 , No. of epochs = 312 , Error = 0.030827031569051956\n",
      "\n",
      "alpha = 0.05 maxIter = 25000 , Batch size = 5 , No. of epochs = 45 , Error = 0.021344136007302908\n",
      "alpha = 0.05 maxIter = 25000 , Batch size = 10 , No. of epochs = 89 , Error = 0.021522355439274447\n",
      "alpha = 0.05 maxIter = 25000 , Batch size = 20 , No. of epochs = 167 , Error = 0.022465430245083334\n",
      "alpha = 0.05 maxIter = 25000 , Batch size = 25 , No. of epochs = 178 , Error = 0.02591453367128092\n",
      "alpha = 0.05 maxIter = 25000 , Batch size = 50 , No. of epochs = 261 , Error = 0.041528411106411284\n",
      "\n",
      "alpha = 0.05 maxIter = 50000 , Batch size = 5 , No. of epochs = 50 , Error = 0.02044421802350166\n",
      "alpha = 0.05 maxIter = 50000 , Batch size = 10 , No. of epochs = 86 , Error = 0.02196809051553194\n",
      "alpha = 0.05 maxIter = 50000 , Batch size = 20 , No. of epochs = 157 , Error = 0.023534334429613064\n",
      "alpha = 0.05 maxIter = 50000 , Batch size = 25 , No. of epochs = 211 , Error = 0.02229030488424979\n",
      "alpha = 0.05 maxIter = 50000 , Batch size = 50 , No. of epochs = 356 , Error = 0.025931942186212358\n",
      "\n",
      "\n",
      "alpha = 0.1 maxIter = 10 , Batch size = 5 , No. of epochs = 10 , Error = 0.07060642063291629\n",
      "alpha = 0.1 maxIter = 10 , Batch size = 10 , No. of epochs = 10 , Error = 0.21119988424107422\n",
      "alpha = 0.1 maxIter = 10 , Batch size = 20 , No. of epochs = 10 , Error = 0.3782898086013026\n",
      "alpha = 0.1 maxIter = 10 , Batch size = 25 , No. of epochs = 10 , Error = 0.4319522304255706\n",
      "alpha = 0.1 maxIter = 10 , Batch size = 50 , No. of epochs = 10 , Error = 0.5543409005305241\n",
      "\n",
      "alpha = 0.1 maxIter = 50 , Batch size = 5 , No. of epochs = 50 , Error = 0.018805713473475233\n",
      "alpha = 0.1 maxIter = 50 , Batch size = 10 , No. of epochs = 50 , Error = 0.02041671686918154\n",
      "alpha = 0.1 maxIter = 50 , Batch size = 20 , No. of epochs = 50 , Error = 0.04501657304635947\n",
      "alpha = 0.1 maxIter = 50 , Batch size = 25 , No. of epochs = 50 , Error = 0.06882670120636694\n",
      "alpha = 0.1 maxIter = 50 , Batch size = 50 , No. of epochs = 50 , Error = 0.20406574121840515\n",
      "\n",
      "alpha = 0.1 maxIter = 100 , Batch size = 5 , No. of epochs = 46 , Error = 0.019058388164531027\n"
     ]
    },
    {
     "name": "stdout",
     "output_type": "stream",
     "text": [
      "alpha = 0.1 maxIter = 100 , Batch size = 10 , No. of epochs = 55 , Error = 0.019802763512084785\n",
      "alpha = 0.1 maxIter = 100 , Batch size = 20 , No. of epochs = 100 , Error = 0.020529000754706317\n",
      "alpha = 0.1 maxIter = 100 , Batch size = 25 , No. of epochs = 99 , Error = 0.0233510160080996\n",
      "alpha = 0.1 maxIter = 100 , Batch size = 50 , No. of epochs = 100 , Error = 0.06852536977791246\n",
      "\n",
      "alpha = 0.1 maxIter = 500 , Batch size = 5 , No. of epochs = 28 , Error = 0.01965718589100091\n",
      "alpha = 0.1 maxIter = 500 , Batch size = 10 , No. of epochs = 41 , Error = 0.022529790992885417\n",
      "alpha = 0.1 maxIter = 500 , Batch size = 20 , No. of epochs = 81 , Error = 0.02292656300273878\n",
      "alpha = 0.1 maxIter = 500 , Batch size = 25 , No. of epochs = 110 , Error = 0.021496807775530667\n",
      "alpha = 0.1 maxIter = 500 , Batch size = 50 , No. of epochs = 205 , Error = 0.02273596877816518\n",
      "\n",
      "alpha = 0.1 maxIter = 1000 , Batch size = 5 , No. of epochs = 76 , Error = 0.01892856016408313\n",
      "alpha = 0.1 maxIter = 1000 , Batch size = 10 , No. of epochs = 53 , Error = 0.02008820918978274\n",
      "alpha = 0.1 maxIter = 1000 , Batch size = 20 , No. of epochs = 85 , Error = 0.02213064269304564\n",
      "alpha = 0.1 maxIter = 1000 , Batch size = 25 , No. of epochs = 101 , Error = 0.022974847763958563\n",
      "alpha = 0.1 maxIter = 1000 , Batch size = 50 , No. of epochs = 180 , Error = 0.0255795043003164\n",
      "\n",
      "alpha = 0.1 maxIter = 5000 , Batch size = 5 , No. of epochs = 27 , Error = 0.01973335462211467\n",
      "alpha = 0.1 maxIter = 5000 , Batch size = 10 , No. of epochs = 76 , Error = 0.01928163264364719\n",
      "alpha = 0.1 maxIter = 5000 , Batch size = 20 , No. of epochs = 108 , Error = 0.020155733458616664\n",
      "alpha = 0.1 maxIter = 5000 , Batch size = 25 , No. of epochs = 114 , Error = 0.021265838166228884\n",
      "alpha = 0.1 maxIter = 5000 , Batch size = 50 , No. of epochs = 113 , Error = 0.054251148016796216\n",
      "\n",
      "alpha = 0.1 maxIter = 10000 , Batch size = 5 , No. of epochs = 34 , Error = 0.01936699238502667\n",
      "alpha = 0.1 maxIter = 10000 , Batch size = 10 , No. of epochs = 52 , Error = 0.019866177234747512\n",
      "alpha = 0.1 maxIter = 10000 , Batch size = 20 , No. of epochs = 100 , Error = 0.020487533652221796\n",
      "alpha = 0.1 maxIter = 10000 , Batch size = 25 , No. of epochs = 114 , Error = 0.02129675164504844\n",
      "alpha = 0.1 maxIter = 10000 , Batch size = 50 , No. of epochs = 177 , Error = 0.026045006548508835\n",
      "\n",
      "alpha = 0.1 maxIter = 25000 , Batch size = 5 , No. of epochs = 40 , Error = 0.019122584890365384\n",
      "alpha = 0.1 maxIter = 25000 , Batch size = 10 , No. of epochs = 78 , Error = 0.01942351665825501\n",
      "alpha = 0.1 maxIter = 25000 , Batch size = 20 , No. of epochs = 112 , Error = 0.020045036721794682\n",
      "alpha = 0.1 maxIter = 25000 , Batch size = 25 , No. of epochs = 113 , Error = 0.021350134056393855\n",
      "alpha = 0.1 maxIter = 25000 , Batch size = 50 , No. of epochs = 208 , Error = 0.022504183539660053\n",
      "\n",
      "alpha = 0.1 maxIter = 50000 , Batch size = 5 , No. of epochs = 82 , Error = 0.018890720070380597\n",
      "alpha = 0.1 maxIter = 50000 , Batch size = 10 , No. of epochs = 61 , Error = 0.019676033964748603\n",
      "alpha = 0.1 maxIter = 50000 , Batch size = 20 , No. of epochs = 87 , Error = 0.02174089804205192\n",
      "alpha = 0.1 maxIter = 50000 , Batch size = 25 , No. of epochs = 100 , Error = 0.02308097560365946\n",
      "alpha = 0.1 maxIter = 50000 , Batch size = 50 , No. of epochs = 205 , Error = 0.022687896961819533\n",
      "\n",
      "\n",
      "alpha = 0.3 maxIter = 10 , Batch size = 5 , No. of epochs = 10 , Error = 0.01742771544939939\n",
      "alpha = 0.3 maxIter = 10 , Batch size = 10 , No. of epochs = 10 , Error = 0.032234394443199796\n",
      "alpha = 0.3 maxIter = 10 , Batch size = 20 , No. of epochs = 10 , Error = 0.11287313255891589\n",
      "alpha = 0.3 maxIter = 10 , Batch size = 25 , No. of epochs = 10 , Error = 0.16376865145801608\n",
      "alpha = 0.3 maxIter = 10 , Batch size = 50 , No. of epochs = 10 , Error = 0.3367399355726983\n",
      "\n",
      "alpha = 0.3 maxIter = 50 , Batch size = 5 , No. of epochs = 50 , Error = 0.018022709984565153\n",
      "alpha = 0.3 maxIter = 50 , Batch size = 10 , No. of epochs = 50 , Error = 0.018613631452187918\n",
      "alpha = 0.3 maxIter = 50 , Batch size = 20 , No. of epochs = 32 , Error = 0.0205705419879157\n",
      "alpha = 0.3 maxIter = 50 , Batch size = 25 , No. of epochs = 50 , Error = 0.0197751826595131\n",
      "alpha = 0.3 maxIter = 50 , Batch size = 50 , No. of epochs = 50 , Error = 0.03239031947958569\n",
      "\n",
      "alpha = 0.3 maxIter = 100 , Batch size = 5 , No. of epochs = 55 , Error = 0.017628682343420528\n",
      "alpha = 0.3 maxIter = 100 , Batch size = 10 , No. of epochs = 47 , Error = 0.01910319736778111\n",
      "alpha = 0.3 maxIter = 100 , Batch size = 20 , No. of epochs = 72 , Error = 0.01955553294965451\n",
      "alpha = 0.3 maxIter = 100 , Batch size = 25 , No. of epochs = 44 , Error = 0.020091085013840403\n",
      "alpha = 0.3 maxIter = 100 , Batch size = 50 , No. of epochs = 80 , Error = 0.020862741626049633\n",
      "\n",
      "alpha = 0.3 maxIter = 500 , Batch size = 5 , No. of epochs = 29 , Error = 0.016794897584267873\n",
      "alpha = 0.3 maxIter = 500 , Batch size = 10 , No. of epochs = 26 , Error = 0.01892169221806103\n",
      "alpha = 0.3 maxIter = 500 , Batch size = 20 , No. of epochs = 38 , Error = 0.019691827552038067\n",
      "alpha = 0.3 maxIter = 500 , Batch size = 25 , No. of epochs = 49 , Error = 0.019906089456859725\n",
      "alpha = 0.3 maxIter = 500 , Batch size = 50 , No. of epochs = 87 , Error = 0.020327420417834703\n",
      "\n",
      "alpha = 0.3 maxIter = 1000 , Batch size = 5 , No. of epochs = 135 , Error = 0.0173069329526599\n",
      "alpha = 0.3 maxIter = 1000 , Batch size = 10 , No. of epochs = 33 , Error = 0.018403261618387186\n",
      "alpha = 0.3 maxIter = 1000 , Batch size = 20 , No. of epochs = 74 , Error = 0.01925951845832783\n",
      "alpha = 0.3 maxIter = 1000 , Batch size = 25 , No. of epochs = 49 , Error = 0.01963231709444773\n",
      "alpha = 0.3 maxIter = 1000 , Batch size = 50 , No. of epochs = 59 , Error = 0.02583771559622171\n",
      "\n",
      "alpha = 0.3 maxIter = 5000 , Batch size = 5 , No. of epochs = 21 , Error = 0.017243829262204014\n",
      "alpha = 0.3 maxIter = 5000 , Batch size = 10 , No. of epochs = 23 , Error = 0.018723436628520256\n",
      "alpha = 0.3 maxIter = 5000 , Batch size = 20 , No. of epochs = 86 , Error = 0.01963034221333569\n",
      "alpha = 0.3 maxIter = 5000 , Batch size = 25 , No. of epochs = 35 , Error = 0.0223064545532995\n",
      "alpha = 0.3 maxIter = 5000 , Batch size = 50 , No. of epochs = 97 , Error = 0.019987379749419366\n",
      "\n",
      "alpha = 0.3 maxIter = 10000 , Batch size = 5 , No. of epochs = 136 , Error = 0.017760547843369563\n",
      "alpha = 0.3 maxIter = 10000 , Batch size = 10 , No. of epochs = 26 , Error = 0.018344114958944984\n",
      "alpha = 0.3 maxIter = 10000 , Batch size = 20 , No. of epochs = 31 , Error = 0.020582486677435567\n",
      "alpha = 0.3 maxIter = 10000 , Batch size = 25 , No. of epochs = 57 , Error = 0.019571319010914308\n",
      "alpha = 0.3 maxIter = 10000 , Batch size = 50 , No. of epochs = 71 , Error = 0.022071439680177357\n",
      "\n",
      "alpha = 0.3 maxIter = 25000 , Batch size = 5 , No. of epochs = 21 , Error = 0.017439501784806452\n",
      "alpha = 0.3 maxIter = 25000 , Batch size = 10 , No. of epochs = 28 , Error = 0.018970633306008764\n",
      "alpha = 0.3 maxIter = 25000 , Batch size = 20 , No. of epochs = 42 , Error = 0.01931779213719038\n",
      "alpha = 0.3 maxIter = 25000 , Batch size = 25 , No. of epochs = 55 , Error = 0.019680713890497668\n",
      "alpha = 0.3 maxIter = 25000 , Batch size = 50 , No. of epochs = 65 , Error = 0.023484012691673356\n",
      "\n",
      "alpha = 0.3 maxIter = 50000 , Batch size = 5 , No. of epochs = 57 , Error = 0.018245455043687086\n",
      "alpha = 0.3 maxIter = 50000 , Batch size = 10 , No. of epochs = 40 , Error = 0.018429209238400867\n",
      "alpha = 0.3 maxIter = 50000 , Batch size = 20 , No. of epochs = 48 , Error = 0.01938965979614215\n",
      "alpha = 0.3 maxIter = 50000 , Batch size = 25 , No. of epochs = 51 , Error = 0.01961687804808868\n",
      "alpha = 0.3 maxIter = 50000 , Batch size = 50 , No. of epochs = 82 , Error = 0.020692776012871242\n",
      "\n",
      "\n"
     ]
    }
   ],
   "source": [
    "maxIters = [10, 50, 100, 500, 1000, 5000, 10000, 25000, 50000]\n",
    "alpha = [0.001, 0.05, 0.01, 0.05, 0.1, 0.3]\n",
    "online_errors = []\n",
    "batch_errors = []\n",
    "mini_batch_errors = []\n",
    "error_list = []\n",
    "batches = [5, 10, 20, 25, 50]\n",
    "\n",
    "print (\"ONLINE\")\n",
    "for i in range(len(alpha)):\n",
    "    for maxIter in maxIters:\n",
    "        w = lms_grad_desc(X, y, maxIter, alpha[i], 'online')\n",
    "        online_errors.append(error_list)\n",
    "        print (\"alpha =\", alpha[i], \"maxIter =\", maxIter,\", No. of epochs =\", len(error_list),\", Error =\", error_list[-1])\n",
    "        error_list = []\n",
    "    print ()\n",
    "    \n",
    "print (\"\\nBATCH\")\n",
    "for i in range(len(alpha)):\n",
    "    for maxIter in maxIters:\n",
    "        w =lms_grad_desc(X, y, maxIter, alpha[i], 'batch')\n",
    "        batch_errors.append(error_list)\n",
    "        print (\"alpha =\", alpha[i], \"maxIter =\", maxIter,\", No. of epochs =\", len(error_list),\", Error =\", error_list[-1])\n",
    "        error_list = []\n",
    "    print ()\n",
    "    \n",
    "print (\"\\nMINI-BATCH\")\n",
    "for i in range(len(alpha)):\n",
    "    for maxIter in maxIters:\n",
    "        for batch_size in batches:\n",
    "            lms_grad_desc(X, y, maxIter, alpha[i], 'mini-batch', batch_size)\n",
    "            mini_batch_errors.append(error_list)\n",
    "            print (\"alpha =\", alpha[i], \"maxIter =\", maxIter,\", Batch size =\", batch_size,\", No. of epochs =\", len(error_list),\", Error =\", error_list[-1])\n",
    "            error_list = []\n",
    "        print ()\n",
    "    print ()"
   ]
  },
  {
   "cell_type": "markdown",
   "metadata": {},
   "source": [
    "(B) What settings worked well for you:  online vs. batch vs. minibatch? What step size? How did you decide to terminate?"
   ]
  },
  {
   "cell_type": "markdown",
   "metadata": {},
   "source": [
    "The following settings worked well for each type of update:\n",
    "\n",
    "1. __Minibatch update__\n",
    "    - step size = $0.3$ (alpha)\n",
    "    - batch size = $10$\n",
    "    - error = ~$0.019$\n",
    "    - number of epochs = ~$55$ (maxIter = $50000$)\n",
    "\n",
    "\n",
    "2. __Online update__\n",
    "    - step size = $0.1$ (alpha)\n",
    "    - error = ~$0.021$\n",
    "    - number of epochs = ~$31$ (maxIter = $50000$)\n",
    "\n",
    "\n",
    "3. __Batch update__\n",
    "    - step size = $0.3$ (alpha)\n",
    "    - error = ~$0.020$\n",
    "    - number of epochs = ~$182$ (maxIter = $50000$)\n",
    "\n",
    "\n",
    "> I decided to terminate using the criteria that absolute change in the error should be less than $0.1\\%$\n",
    "\n",
    "> According to the graph data in __(C)__ we can see that:\n",
    "- __Online Update__ converges fastest, __Batch Update__ converges slowest.\n",
    "- __Minibatch Update__ gives the least error, __Online Update__ gives the most."
   ]
  },
  {
   "cell_type": "markdown",
   "metadata": {},
   "source": [
    "(C) Make a graph of error on the entire data set as a function of epoch. An epoch is a complete sweep through all the data."
   ]
  },
  {
   "cell_type": "code",
   "execution_count": 9,
   "metadata": {},
   "outputs": [
    {
     "name": "stdout",
     "output_type": "stream",
     "text": [
      "maxIter = 50000, no. of epochs = 32 , error = 0.019116277461635814\n"
     ]
    },
    {
     "data": {
      "image/png": "[encoded data removed]",
      "text/plain": [
       "<Figure size 432x288 with 1 Axes>"
      ]
     },
     "metadata": {},
     "output_type": "display_data"
    },
    {
     "name": "stdout",
     "output_type": "stream",
     "text": [
      "maxIter = 50000, no. of epochs = 23 , error = 0.02109657549550453\n"
     ]
    },
    {
     "data": {
      "image/png": "[encoded data removed]",
      "text/plain": [
       "<Figure size 432x288 with 1 Axes>"
      ]
     },
     "metadata": {},
     "output_type": "display_data"
    },
    {
     "name": "stdout",
     "output_type": "stream",
     "text": [
      "maxIter = 50000, no. of epochs = 182 , error = 0.02018981383229961\n"
     ]
    },
    {
     "data": {
      "image/png": "[encoded data removed]",
      "text/plain": [
       "<Figure size 432x288 with 1 Axes>"
      ]
     },
     "metadata": {},
     "output_type": "display_data"
    }
   ],
   "source": [
    "# MINI-BATCH\n",
    "\n",
    "error_list = []\n",
    "maxIter = 50000\n",
    "alpha = 0.3\n",
    "lms_grad_desc(X, y, maxIter, alpha, 'mini-batch', 10)\n",
    "print (\"maxIter = 50000, no. of epochs =\", len(error_list), \", error =\", error_list[-1])\n",
    "\n",
    "plt.plot([i for i in range(len(error_list))], error_list)\n",
    "plt.title('Mini-batch alpha = 0.3 batch-size = 10')\n",
    "plt.xlabel('Number of epochs')\n",
    "plt.ylabel('Mean Square Error')\n",
    "plt.show()\n",
    "\n",
    "\n",
    "# ONLINE\n",
    "\n",
    "error_list = []\n",
    "maxIter = 50000\n",
    "alpha = 0.1\n",
    "lms_grad_desc(X, y, maxIter, alpha, 'online')\n",
    "print (\"maxIter = 50000, no. of epochs =\", len(error_list), \", error =\", error_list[-1])\n",
    "\n",
    "plt.plot([i for i in range(len(error_list))], error_list, 'y')\n",
    "plt.title('Online alpha = 0.1')\n",
    "plt.xlabel('Number of epochs')\n",
    "plt.ylabel('Mean Square Error')\n",
    "plt.show()\n",
    "\n",
    "\n",
    "# BATCH\n",
    "\n",
    "error_list = []\n",
    "maxIter = 50000\n",
    "alpha = 0.3\n",
    "lms_grad_desc(X, y, maxIter, alpha, 'batch')\n",
    "print (\"maxIter = 50000, no. of epochs =\", len(error_list), \", error =\", error_list[-1])\n",
    "\n",
    "plt.plot([i for i in range(len(error_list))], error_list, 'g')\n",
    "plt.title('Batch alpha = 0.3')\n",
    "plt.xlabel('Number of epochs')\n",
    "plt.ylabel('Mean Square Error')\n",
    "plt.show()"
   ]
  },
  {
   "cell_type": "markdown",
   "metadata": {},
   "source": [
    "## Part 3"
   ]
  },
  {
   "cell_type": "markdown",
   "metadata": {},
   "source": [
    "The data set from a regression problem can be converted into a classification problem simply by using the sign of (+ or -) as representing one of two classes. In the data set used in Part 1 and 2, you'll see a variable that represents this binary (0 or 1) class.\n",
    "\n",
    "Use the perceptron learning rule to solve for the coefficients {$w_1$, $w_2$, $b$} of this classification problem.   \n",
    "\n",
    "Two warnings: First, your solution to Part 3 should require only a few lines of code changed from the code you wrote for Part 2. Second, the Perceptron algorithm will not converge if there is no exact solution to the training data. It will jitter among coefficients that all yield roughly equally good solutions."
   ]
  },
  {
   "cell_type": "markdown",
   "metadata": {},
   "source": [
    "Complete the following functions below and use them to answer questions (A) and (B). \n",
    "\n",
    "**Note:** Please do not change the interface of the given functions."
   ]
  },
  {
   "cell_type": "markdown",
   "metadata": {},
   "source": [
    "> __NOTE:__  \n",
    "Stopping criteria for perceptron is for epochs greater than $100$, the absolute change in the number of incorrect examples should be less than $0.1\\%$ (similar to LMS)"
   ]
  },
  {
   "cell_type": "code",
   "execution_count": 10,
   "metadata": {},
   "outputs": [],
   "source": [
    "def step(Xw):\n",
    "    \"\"\"\n",
    "    Returns 1 if the dot product of weight and features is > 0 else returns 0\n",
    "    \"\"\"\n",
    "    if Xw > 0:\n",
    "        return 1\n",
    "    return 0\n",
    "\n",
    "def perceptron_update(X, y, w):\n",
    "    \"\"\"\n",
    "    One iteration of the Perceptron update over the entire dataset (not just a single point).\n",
    "    \n",
    "    Parameters\n",
    "    ----------\n",
    "    X : NumPy array of features (size : no of examples X features)\n",
    "    y : Numpy array of class labels (size : no of examples X 1)\n",
    "    w : array of coefficients from the previous iteration\n",
    "    \n",
    "    Returns\n",
    "    -------\n",
    "    w : Coefficients of the classifier (after updating)\n",
    "    incorrect : Incorrectly classified examples\n",
    "    \"\"\"\n",
    "    incorrect = 0\n",
    "    \n",
    "    for i in range(len(y)):\n",
    "        y_hat = step(w.dot(X[i]))\n",
    "        w = w + alpha*(y[i] - y_hat) * X[i]\n",
    "        if y_hat != y[i]:\n",
    "            incorrect += 1\n",
    "    \n",
    "    return w, incorrect\n",
    "\n",
    "def perceptron(X, y, maxIter, alpha):\n",
    "    \"\"\"\n",
    "    Implements the Perceptron algorithm.\n",
    "    \n",
    "    Parameters\n",
    "    ----------\n",
    "    X : NumPy array of features (size : no of examples X features)\n",
    "    y : Numpy array of class labels (size : no of examples X 1)\n",
    "    maxIter : The maximum number of iterations allowed \n",
    "    alpha : Learning Rate\n",
    "    \n",
    "    Returns\n",
    "    -------\n",
    "    w : Coefficients of the classifier\n",
    "    incorrect : Incorrectly classified examples on termination\n",
    "    \"\"\"\n",
    "    w = np.zeros_like(X[0])\n",
    "    for i in range(maxIter):\n",
    "        X, y = shuffle(X, y)\n",
    "        w, incorrect = perceptron_update(X, y, w) \n",
    "        incorrect_list.append(incorrect)\n",
    "        if i > 100 and incorrect_list[-2] > 0 and abs(incorrect_list[-1] - incorrect_list[-2]) / incorrect_list[-2] <= 0.001:\n",
    "            break\n",
    "            \n",
    "    return w, incorrect"
   ]
  },
  {
   "cell_type": "markdown",
   "metadata": {},
   "source": [
    "(A) Report the values of coefficients $w_1$, $w_2$, and $b$."
   ]
  },
  {
   "cell_type": "code",
   "execution_count": 11,
   "metadata": {},
   "outputs": [
    {
     "name": "stdout",
     "output_type": "stream",
     "text": [
      "w1 = -2.8784099999999917\n",
      "w2 = 5.190780000000021\n",
      "b = -0.5999999999999999\n",
      "Incorrect examples: 5\n"
     ]
    }
   ],
   "source": [
    "incorrect_list = []\n",
    "w, incorrect = perceptron(X, z, 1000, 0.01)\n",
    "print (\"w1 =\", w[0])\n",
    "print (\"w2 =\", w[1])\n",
    "print (\"b =\", w[2])\n",
    "print (\"Incorrect examples:\", incorrect)"
   ]
  },
  {
   "cell_type": "markdown",
   "metadata": {},
   "source": [
    "(B) Make a graph of the accuracy (% correct classification) on the training set as a function of epoch."
   ]
  },
  {
   "cell_type": "code",
   "execution_count": 12,
   "metadata": {},
   "outputs": [
    {
     "data": {
      "image/png": "[encoded data removed]",
      "text/plain": [
       "<Figure size 432x288 with 1 Axes>"
      ]
     },
     "metadata": {},
     "output_type": "display_data"
    }
   ],
   "source": [
    "accuracy = 1.0 - (np.array(incorrect_list) / len(z))\n",
    "\n",
    "plt.title(\"Perceptron alpha = 0.01\")\n",
    "plt.xlabel(\"Number of Epochs\")\n",
    "plt.ylabel(\"Accuracy\")\n",
    "plt.plot([i for i in range(len(incorrect_list))], accuracy)\n",
    "plt.show()"
   ]
  },
  {
   "cell_type": "markdown",
   "metadata": {},
   "source": [
    "## Part 4"
   ]
  },
  {
   "cell_type": "markdown",
   "metadata": {},
   "source": [
    "In machine learning, we really want to train a model based on some data and then expect the model to do well on \"out of sample\" data. Try this with the code you wrote for Part 3:  Train the model on the first {5, 10, 25, 50, 75} examples in the data set and test the model on the final 25 examples."
   ]
  },
  {
   "cell_type": "markdown",
   "metadata": {},
   "source": [
    "Complete the following function below and use it to answer (A). \n",
    "\n",
    "**Note:** Please do not change the interface of the given function."
   ]
  },
  {
   "cell_type": "code",
   "execution_count": 13,
   "metadata": {},
   "outputs": [],
   "source": [
    "def classify(X, y, w):\n",
    "    \"\"\"\n",
    "    Use this function to classify examples in the test set\n",
    "    \n",
    "    Parameters\n",
    "    ----------\n",
    "    X : Test set features\n",
    "    y : Test set labels\n",
    "    w : Perceptron coefficients\n",
    "    \n",
    "    Returns\n",
    "    -------\n",
    "    correct : number of correctly classified examples\n",
    "    \"\"\"\n",
    "    correct = 0\n",
    "    for i in range(len(y)):\n",
    "        y_hat = step(w.dot(X[i]))\n",
    "        if y_hat == y[i]:\n",
    "            correct += 1\n",
    "    \n",
    "    return correct"
   ]
  },
  {
   "cell_type": "markdown",
   "metadata": {},
   "source": [
    "How does performance on the test set vary with the amount of training data? Make a bar graph showing performance for each of the different training set sizes."
   ]
  },
  {
   "cell_type": "code",
   "execution_count": 19,
   "metadata": {
    "scrolled": true
   },
   "outputs": [
    {
     "name": "stdout",
     "output_type": "stream",
     "text": [
      "[0.84, 0.96, 0.96, 0.96, 0.92]\n"
     ]
    },
    {
     "data": {
      "image/png": "[encoded data removed]",
      "text/plain": [
       "<Figure size 432x288 with 1 Axes>"
      ]
     },
     "metadata": {},
     "output_type": "display_data"
    }
   ],
   "source": [
    "train_sets = [5, 10, 25, 50, 75]\n",
    "correct_list = []\n",
    "X_test = X[-25:]\n",
    "z_test = z[-25:]\n",
    "for train_set in train_sets:\n",
    "    X_train = X[:train_set]\n",
    "    z_train = z[:train_set]\n",
    "    w, incorrect = perceptron(X_train, z_train, 1000, 0.001)\n",
    "    correct = classify(X_test, z_test, w)\n",
    "    correct_list.append(float(correct) / float(len(z_test)))\n",
    "print (correct_list)\n",
    "plt.bar(train_sets, correct_list, width=2.5)\n",
    "plt.xlabel(\"Training Set Size\")\n",
    "plt.ylabel(\"Correct Examples\")\n",
    "plt.title(\"Performance on Test Set\")\n",
    "\n",
    "plt.show()"
   ]
  },
  {
   "cell_type": "markdown",
   "metadata": {},
   "source": [
    "- As seen from the graph, the performance (accuracy) increases till 50 examples then decreases, but still remains above 90%"
   ]
  }
 ],
 "metadata": {
  "kernelspec": {
   "display_name": "Python 3",
   "language": "python",
   "name": "python3"
  },
  "language_info": {
   "codemirror_mode": {
    "name": "ipython",
    "version": 3
   },
   "file_extension": ".py",
   "mimetype": "text/x-python",
   "name": "python",
   "nbconvert_exporter": "python",
   "pygments_lexer": "ipython3",
   "version": "3.6.5"
  }
 },
 "nbformat": 4,
 "nbformat_minor": 2
}
